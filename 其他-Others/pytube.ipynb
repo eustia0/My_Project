{
 "cells": [
  {
   "cell_type": "code",
   "execution_count": null,
   "id": "0aa03b76",
   "metadata": {},
   "outputs": [],
   "source": [
    "# !pip install yt-dlp"
   ]
  },
  {
   "cell_type": "code",
   "execution_count": null,
   "id": "7474a865",
   "metadata": {},
   "outputs": [],
   "source": [
    "import yt_dlp\n",
    "\n",
    "# URL of the YouTube playlist\n",
    "playlist_url = 'https://www.youtube.com/playlist?list=PLJ4fUEoWgusuiQA_FPPFbb8Wk25Fk7nvH'\n",
    "\n",
    "# yt-dlp options for audio-only downloads\n",
    "ydl_opts = {\n",
    "    'format': 'bestaudio/best',  # Download the best audio quality available\n",
    "    'postprocessors': [{  # Convert to MP3 format after download\n",
    "        'key': 'FFmpegExtractAudio',\n",
    "        'preferredcodec': 'mp3',  # Convert to MP3 format\n",
    "        'preferredquality': '192',  # Set the audio quality (bitrate)\n",
    "    }],\n",
    "    'outtmpl': '%(title)s.%(ext)s',  # Save with the video title as the filename\n",
    "    'noplaylist': False,  # Ensure the entire playlist is downloaded\n",
    "    'quiet': False,  # Show download progress\n",
    "    'nooverwrites': True,  # Skip files that have already been downloaded\n",
    "}\n",
    "\n",
    "# Download the playlist\n",
    "with yt_dlp.YoutubeDL(ydl_opts) as ydl:\n",
    "    ydl.download([playlist_url])\n"
   ]
  },
  {
   "cell_type": "code",
   "execution_count": null,
   "id": "b130e7bc",
   "metadata": {},
   "outputs": [],
   "source": [
    "import yt_dlp\n",
    "\n",
    "# URL of the YouTube playlist\n",
    "playlist_url = 'https://www.youtube.com/playlist?list=PLJ4fUEoWgusuiQA_FPPFbb8Wk25Fk7nvH'\n",
    "\n",
    "# yt-dlp options\n",
    "ydl_opts = {\n",
    "    'format': 'bestvideo+bestaudio/best',  # Download the best quality available\n",
    "    'outtmpl': '%(title)s.%(ext)s',  # Save with the video title as the filename\n",
    "    'noplaylist': False,  # Ensure we download the entire playlist\n",
    "#    'playlist_items': '1-10',  # Specify a range if you don't want the full playlist\n",
    "    'quiet': False,  # Set to True if you want to suppress output\n",
    "    'nooverwrites': True,  # Skip files that have already been downloaded\n",
    "}\n",
    "\n",
    "# Download the playlist\n",
    "with yt_dlp.YoutubeDL(ydl_opts) as ydl:\n",
    "    ydl.download([playlist_url])\n"
   ]
  }
 ],
 "metadata": {
  "kernelspec": {
   "display_name": "Python 3",
   "language": "python",
   "name": "python3"
  },
  "language_info": {
   "codemirror_mode": {
    "name": "ipython",
    "version": 3
   },
   "file_extension": ".py",
   "mimetype": "text/x-python",
   "name": "python",
   "nbconvert_exporter": "python",
   "pygments_lexer": "ipython3",
   "version": "3.11.9"
  },
  "vscode": {
   "interpreter": {
    "hash": "3b7e9cb8e453d6cda0fe8c8dd13f891a1f09162f0e7c66ffeae7751a7aecf00d"
   }
  }
 },
 "nbformat": 4,
 "nbformat_minor": 5
}
