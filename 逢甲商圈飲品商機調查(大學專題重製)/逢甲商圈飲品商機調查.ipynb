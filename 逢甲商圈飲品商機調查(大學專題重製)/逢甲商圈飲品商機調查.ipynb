{
 "cells": [
  {
   "cell_type": "markdown",
   "id": "7654c02e",
   "metadata": {},
   "source": [
    "* [前言&資料預處理](#前言&資料預處理)\n",
    "* [特徵工程&找尋對店家有用的資訊](#特徵工程&找尋對店家有用的資訊)\n",
    "* [卡方檢定&特色飲料客群的特徵](#卡方檢定&特色飲料客群的特徵)\n",
    "* [t-test&特色飲料客群的特徵](#t-test&特色飲料客群的特徵)\n",
    "* [找尋價格最受到哪些因素影響](#找尋價格最受到哪些因素影響)\n",
    "* [小結](#小結)"
   ]
  },
  {
   "cell_type": "markdown",
   "id": "70d878d9",
   "metadata": {},
   "source": [
    " <a name=\"前言&資料預處理\"></a>\n",
    "## 前言&資料預處理"
   ]
  },
  {
   "cell_type": "code",
   "execution_count": 1,
   "id": "618248da",
   "metadata": {},
   "outputs": [],
   "source": [
    "# 我最近回去看了大學做的專題，覺得過去有些統計內容沒什麼統計意義，像是這個：\n",
    "# 在性別方面與等待時間做交叉列表和卡方檢定\n",
    "# 卡方檢定的假設：\n",
    "# H0：等待時間和性別獨立\n",
    "# Ha：等待時間和性別不獨立\n",
    "\n",
    "# 即便顧客願意等待的時間與性別不獨立，假如女姓願意等比較久，店家也不可能由於此便先做男性的餐點，所以我覺得這對店家是沒什麼意義的資訊\n",
    "# 所以我想以目前所學的專業，再做一次大學專題看看\n",
    "\n",
    "# 問卷內容: https://docs.google.com/document/d/1iRGezP8tFIvxEyNn64fMnIX6W8hRYuZrAacuYqF3V6I/edit?usp=sharing\n",
    "# 專題PDF: https://drive.google.com/file/d/1PA3fPIAzuRSKE5UZoWLe27fAYS2VUaWh/view?usp=sharing"
   ]
  },
  {
   "cell_type": "code",
   "execution_count": 2,
   "id": "d7d4af5b",
   "metadata": {},
   "outputs": [
    {
     "name": "stdout",
     "output_type": "stream",
     "text": [
      "(500, 103)\n"
     ]
    },
    {
     "data": {
      "text/html": [
       "<div>\n",
       "<style scoped>\n",
       "    .dataframe tbody tr th:only-of-type {\n",
       "        vertical-align: middle;\n",
       "    }\n",
       "\n",
       "    .dataframe tbody tr th {\n",
       "        vertical-align: top;\n",
       "    }\n",
       "\n",
       "    .dataframe thead th {\n",
       "        text-align: right;\n",
       "    }\n",
       "</style>\n",
       "<table border=\"1\" class=\"dataframe\">\n",
       "  <thead>\n",
       "    <tr style=\"text-align: right;\">\n",
       "      <th></th>\n",
       "      <th>流水號</th>\n",
       "      <th>訪員編號</th>\n",
       "      <th>受訪地點</th>\n",
       "      <th>受訪時間</th>\n",
       "      <th>同遊人數(含受訪者)</th>\n",
       "      <th>受訪者性別</th>\n",
       "      <th>1_1</th>\n",
       "      <th>1_2</th>\n",
       "      <th>1_3</th>\n",
       "      <th>1_4</th>\n",
       "      <th>1_5</th>\n",
       "      <th>1_6</th>\n",
       "      <th>1_7</th>\n",
       "      <th>1_8</th>\n",
       "      <th>1_9</th>\n",
       "      <th>1_10</th>\n",
       "      <th>1_11</th>\n",
       "      <th>1_12</th>\n",
       "      <th>1_13</th>\n",
       "      <th>1_14</th>\n",
       "      <th>2_1_a</th>\n",
       "      <th>2_1_b</th>\n",
       "      <th>2_1_c</th>\n",
       "      <th>2_1_d</th>\n",
       "      <th>2_1_e</th>\n",
       "      <th>2_2_1</th>\n",
       "      <th>2_2_2</th>\n",
       "      <th>2_2_3</th>\n",
       "      <th>2_2_4</th>\n",
       "      <th>2_2_5</th>\n",
       "      <th>2_2_6</th>\n",
       "      <th>2_2_7</th>\n",
       "      <th>2_2_8</th>\n",
       "      <th>2_2_8_1</th>\n",
       "      <th>2_3</th>\n",
       "      <th>2_4_1</th>\n",
       "      <th>2_4_2</th>\n",
       "      <th>2_4_3</th>\n",
       "      <th>2_4_4</th>\n",
       "      <th>2_4_5</th>\n",
       "      <th>2_4_6</th>\n",
       "      <th>2_4_7</th>\n",
       "      <th>2_4_8</th>\n",
       "      <th>2_4_9</th>\n",
       "      <th>2_4_10</th>\n",
       "      <th>2_4_11</th>\n",
       "      <th>2_4_12</th>\n",
       "      <th>2_4_13</th>\n",
       "      <th>2_4_14</th>\n",
       "      <th>2_4_15</th>\n",
       "      <th>2_4_16</th>\n",
       "      <th>2_4_17</th>\n",
       "      <th>2_4_18</th>\n",
       "      <th>2_4_19</th>\n",
       "      <th>2_4_20</th>\n",
       "      <th>2_4_21</th>\n",
       "      <th>2_4_22</th>\n",
       "      <th>2_4_22_1</th>\n",
       "      <th>2_5</th>\n",
       "      <th>2_6_1</th>\n",
       "      <th>2_6_2</th>\n",
       "      <th>2_6_3</th>\n",
       "      <th>2_6_4</th>\n",
       "      <th>2_6_5</th>\n",
       "      <th>2_6_6</th>\n",
       "      <th>2_6_7</th>\n",
       "      <th>2_6_8</th>\n",
       "      <th>2_6_9</th>\n",
       "      <th>2_6_9_1</th>\n",
       "      <th>2_7</th>\n",
       "      <th>2_8</th>\n",
       "      <th>2_9_1</th>\n",
       "      <th>2_9_2</th>\n",
       "      <th>2_9_3</th>\n",
       "      <th>2_9_4</th>\n",
       "      <th>2_9_5</th>\n",
       "      <th>2_9_6</th>\n",
       "      <th>2_9_7</th>\n",
       "      <th>2_9_8</th>\n",
       "      <th>2_9_9</th>\n",
       "      <th>2_9_10</th>\n",
       "      <th>2_9_10_1</th>\n",
       "      <th>3_1_1</th>\n",
       "      <th>3_1_2</th>\n",
       "      <th>3_1_3</th>\n",
       "      <th>3_1_4</th>\n",
       "      <th>3_1_5</th>\n",
       "      <th>3_1_6</th>\n",
       "      <th>3_2</th>\n",
       "      <th>3_3</th>\n",
       "      <th>3_4</th>\n",
       "      <th>3_4_1</th>\n",
       "      <th>3_5</th>\n",
       "      <th>3_6</th>\n",
       "      <th>3_7_1</th>\n",
       "      <th>3_7_2</th>\n",
       "      <th>3_7_2_9</th>\n",
       "      <th>3_7_2_10</th>\n",
       "      <th>3_8</th>\n",
       "      <th>3_8_1</th>\n",
       "      <th>3_9_1</th>\n",
       "      <th>3_9_2</th>\n",
       "      <th>3_10</th>\n",
       "    </tr>\n",
       "  </thead>\n",
       "  <tbody>\n",
       "    <tr>\n",
       "      <th>0</th>\n",
       "      <td>1</td>\n",
       "      <td>2</td>\n",
       "      <td>1</td>\n",
       "      <td>20181122</td>\n",
       "      <td>1</td>\n",
       "      <td>0</td>\n",
       "      <td>5</td>\n",
       "      <td>5</td>\n",
       "      <td>1</td>\n",
       "      <td>4</td>\n",
       "      <td>4</td>\n",
       "      <td>5.0</td>\n",
       "      <td>4</td>\n",
       "      <td>1</td>\n",
       "      <td>4</td>\n",
       "      <td>4</td>\n",
       "      <td>5</td>\n",
       "      <td>3</td>\n",
       "      <td>5</td>\n",
       "      <td>4</td>\n",
       "      <td>5</td>\n",
       "      <td>4</td>\n",
       "      <td>4</td>\n",
       "      <td>5</td>\n",
       "      <td>4</td>\n",
       "      <td>1</td>\n",
       "      <td>1</td>\n",
       "      <td>0</td>\n",
       "      <td>0</td>\n",
       "      <td>0</td>\n",
       "      <td>0</td>\n",
       "      <td>0</td>\n",
       "      <td>0</td>\n",
       "      <td>888</td>\n",
       "      <td>2</td>\n",
       "      <td>0</td>\n",
       "      <td>0</td>\n",
       "      <td>1</td>\n",
       "      <td>1</td>\n",
       "      <td>1</td>\n",
       "      <td>0</td>\n",
       "      <td>1</td>\n",
       "      <td>1</td>\n",
       "      <td>0</td>\n",
       "      <td>0</td>\n",
       "      <td>0</td>\n",
       "      <td>0</td>\n",
       "      <td>0</td>\n",
       "      <td>0</td>\n",
       "      <td>0</td>\n",
       "      <td>1</td>\n",
       "      <td>1</td>\n",
       "      <td>1</td>\n",
       "      <td>0</td>\n",
       "      <td>0</td>\n",
       "      <td>0</td>\n",
       "      <td>0</td>\n",
       "      <td>888</td>\n",
       "      <td>3</td>\n",
       "      <td>0</td>\n",
       "      <td>0</td>\n",
       "      <td>1</td>\n",
       "      <td>0</td>\n",
       "      <td>0</td>\n",
       "      <td>0</td>\n",
       "      <td>0</td>\n",
       "      <td>0</td>\n",
       "      <td>0</td>\n",
       "      <td>888</td>\n",
       "      <td>2</td>\n",
       "      <td>1</td>\n",
       "      <td>1</td>\n",
       "      <td>0</td>\n",
       "      <td>0</td>\n",
       "      <td>0</td>\n",
       "      <td>0</td>\n",
       "      <td>0</td>\n",
       "      <td>0</td>\n",
       "      <td>0</td>\n",
       "      <td>0</td>\n",
       "      <td>0</td>\n",
       "      <td>888</td>\n",
       "      <td>0</td>\n",
       "      <td>0</td>\n",
       "      <td>1</td>\n",
       "      <td>0</td>\n",
       "      <td>0</td>\n",
       "      <td>0</td>\n",
       "      <td>6</td>\n",
       "      <td>1</td>\n",
       "      <td>1</td>\n",
       "      <td>888</td>\n",
       "      <td>2</td>\n",
       "      <td>1</td>\n",
       "      <td>1</td>\n",
       "      <td>1</td>\n",
       "      <td>888</td>\n",
       "      <td>888</td>\n",
       "      <td>1</td>\n",
       "      <td>888</td>\n",
       "      <td>1</td>\n",
       "      <td>975065</td>\n",
       "      <td>1</td>\n",
       "    </tr>\n",
       "    <tr>\n",
       "      <th>1</th>\n",
       "      <td>2</td>\n",
       "      <td>2</td>\n",
       "      <td>1</td>\n",
       "      <td>20181122</td>\n",
       "      <td>5</td>\n",
       "      <td>1</td>\n",
       "      <td>5</td>\n",
       "      <td>5</td>\n",
       "      <td>1</td>\n",
       "      <td>3</td>\n",
       "      <td>3</td>\n",
       "      <td>4.0</td>\n",
       "      <td>3</td>\n",
       "      <td>2</td>\n",
       "      <td>5</td>\n",
       "      <td>4</td>\n",
       "      <td>4</td>\n",
       "      <td>4</td>\n",
       "      <td>4</td>\n",
       "      <td>5</td>\n",
       "      <td>5</td>\n",
       "      <td>5</td>\n",
       "      <td>5</td>\n",
       "      <td>5</td>\n",
       "      <td>5</td>\n",
       "      <td>1</td>\n",
       "      <td>0</td>\n",
       "      <td>0</td>\n",
       "      <td>1</td>\n",
       "      <td>0</td>\n",
       "      <td>0</td>\n",
       "      <td>0</td>\n",
       "      <td>0</td>\n",
       "      <td>888</td>\n",
       "      <td>4</td>\n",
       "      <td>0</td>\n",
       "      <td>0</td>\n",
       "      <td>0</td>\n",
       "      <td>1</td>\n",
       "      <td>0</td>\n",
       "      <td>0</td>\n",
       "      <td>0</td>\n",
       "      <td>1</td>\n",
       "      <td>1</td>\n",
       "      <td>1</td>\n",
       "      <td>0</td>\n",
       "      <td>0</td>\n",
       "      <td>1</td>\n",
       "      <td>1</td>\n",
       "      <td>0</td>\n",
       "      <td>1</td>\n",
       "      <td>1</td>\n",
       "      <td>0</td>\n",
       "      <td>1</td>\n",
       "      <td>1</td>\n",
       "      <td>0</td>\n",
       "      <td>0</td>\n",
       "      <td>888</td>\n",
       "      <td>10</td>\n",
       "      <td>0</td>\n",
       "      <td>0</td>\n",
       "      <td>0</td>\n",
       "      <td>0</td>\n",
       "      <td>0</td>\n",
       "      <td>0</td>\n",
       "      <td>0</td>\n",
       "      <td>0</td>\n",
       "      <td>1</td>\n",
       "      <td>清心福全</td>\n",
       "      <td>1</td>\n",
       "      <td>1</td>\n",
       "      <td>1</td>\n",
       "      <td>0</td>\n",
       "      <td>0</td>\n",
       "      <td>1</td>\n",
       "      <td>0</td>\n",
       "      <td>0</td>\n",
       "      <td>0</td>\n",
       "      <td>0</td>\n",
       "      <td>0</td>\n",
       "      <td>0</td>\n",
       "      <td>888</td>\n",
       "      <td>1</td>\n",
       "      <td>0</td>\n",
       "      <td>0</td>\n",
       "      <td>0</td>\n",
       "      <td>0</td>\n",
       "      <td>0</td>\n",
       "      <td>7</td>\n",
       "      <td>1</td>\n",
       "      <td>3</td>\n",
       "      <td>888</td>\n",
       "      <td>5</td>\n",
       "      <td>2</td>\n",
       "      <td>1</td>\n",
       "      <td>6</td>\n",
       "      <td>888</td>\n",
       "      <td>888</td>\n",
       "      <td>3</td>\n",
       "      <td>888</td>\n",
       "      <td>1</td>\n",
       "      <td>933618</td>\n",
       "      <td>1</td>\n",
       "    </tr>\n",
       "  </tbody>\n",
       "</table>\n",
       "</div>"
      ],
      "text/plain": [
       "   流水號 訪員編號  受訪地點      受訪時間  同遊人數(含受訪者)  受訪者性別  1_1  1_2  1_3  1_4  1_5  1_6  \\\n",
       "0    1    2     1  20181122           1      0    5    5    1    4    4  5.0   \n",
       "1    2    2     1  20181122           5      1    5    5    1    3    3  4.0   \n",
       "\n",
       "   1_7  1_8  1_9  1_10  1_11  1_12  1_13  1_14  2_1_a  2_1_b  2_1_c  2_1_d  \\\n",
       "0    4    1    4     4     5     3     5     4      5      4      4      5   \n",
       "1    3    2    5     4     4     4     4     5      5      5      5      5   \n",
       "\n",
       "   2_1_e  2_2_1  2_2_2  2_2_3  2_2_4  2_2_5  2_2_6  2_2_7  2_2_8 2_2_8_1  2_3  \\\n",
       "0      4      1      1      0      0      0      0      0      0     888    2   \n",
       "1      5      1      0      0      1      0      0      0      0     888    4   \n",
       "\n",
       "   2_4_1  2_4_2  2_4_3  2_4_4  2_4_5  2_4_6  2_4_7  2_4_8  2_4_9  2_4_10  \\\n",
       "0      0      0      1      1      1      0      1      1      0       0   \n",
       "1      0      0      0      1      0      0      0      1      1       1   \n",
       "\n",
       "   2_4_11  2_4_12  2_4_13  2_4_14  2_4_15  2_4_16  2_4_17  2_4_18  2_4_19  \\\n",
       "0       0       0       0       0       0       1       1       1       0   \n",
       "1       0       0       1       1       0       1       1       0       1   \n",
       "\n",
       "   2_4_20  2_4_21  2_4_22 2_4_22_1 2_5  2_6_1  2_6_2  2_6_3  2_6_4  2_6_5  \\\n",
       "0       0       0       0      888   3      0      0      1      0      0   \n",
       "1       1       0       0      888  10      0      0      0      0      0   \n",
       "\n",
       "   2_6_6  2_6_7  2_6_8  2_6_9 2_6_9_1  2_7  2_8  2_9_1  2_9_2  2_9_3  2_9_4  \\\n",
       "0      0      0      0      0     888    2    1      1      0      0      0   \n",
       "1      0      0      0      1    清心福全    1    1      1      0      0      1   \n",
       "\n",
       "   2_9_5  2_9_6  2_9_7  2_9_8  2_9_9  2_9_10 2_9_10_1  3_1_1  3_1_2  3_1_3  \\\n",
       "0      0      0      0      0      0       0      888      0      0      1   \n",
       "1      0      0      0      0      0       0      888      1      0      0   \n",
       "\n",
       "   3_1_4  3_1_5  3_1_6  3_2  3_3  3_4 3_4_1  3_5  3_6  3_7_1  3_7_2 3_7_2_9  \\\n",
       "0      0      0      0    6    1    1   888    2    1      1      1     888   \n",
       "1      0      0      0    7    1    3   888    5    2      1      6     888   \n",
       "\n",
       "   3_7_2_10  3_8 3_8_1  3_9_1   3_9_2  3_10  \n",
       "0       888    1   888      1  975065     1  \n",
       "1       888    3   888      1  933618     1  "
      ]
     },
     "execution_count": 2,
     "metadata": {},
     "output_type": "execute_result"
    }
   ],
   "source": [
    "import os\n",
    "import pandas as pd\n",
    "import numpy as np\n",
    "import datetime\n",
    "import glob\n",
    "from datetime import date\n",
    "import warnings\n",
    "warnings.filterwarnings(\"ignore\")  \n",
    "pd.set_option('display.max_columns', None)\n",
    "raw=pd.read_excel(r'問卷譯碼本.xlsx',sheet_name='公版')\n",
    "print(raw.shape)\n",
    "raw.head(2)"
   ]
  },
  {
   "cell_type": "code",
   "execution_count": 3,
   "id": "9712f8b1",
   "metadata": {},
   "outputs": [
    {
     "data": {
      "text/plain": [
       "5    172\n",
       "4    144\n",
       "3     92\n",
       "6     72\n",
       "2     10\n",
       "1      7\n",
       "Name: 1_6, dtype: int64"
      ]
     },
     "execution_count": 3,
     "metadata": {},
     "output_type": "execute_result"
    }
   ],
   "source": [
    "# 註：999-表該題漏答\n",
    "# 註：888-表該題不適用\n",
    "# 註：777-表該題無效\n",
    "# 先來處以缺失值，以我的理解，999 888 777全都為視為缺失值，不需要特別分類\n",
    "# 而由於只有500筆問卷資料，所以我傾向於幫缺失值補值，而非刪除有缺失值的列\n",
    "# 其中欄位1_1到2_1全為受訪者填寫，且全為詢問滿意度的問題，6為最滿意，1為最不滿意\n",
    "# 大部分的問卷滿意度設為1到5，但是若設1-5，很多人會傾向於全部填3，也就是對方懶的填或者沒意見，那一般來說參考價值便會降低\n",
    "# 當初設為1到6為了避免都填3(中立、沒意見)的資料\n",
    "\n",
    "df=raw.copy()\n",
    "df=df.astype(str)\n",
    "\n",
    "for i in range(df.shape[1]):\n",
    "    df[df.columns[i]]=df[df.columns[i]].str.strip()\n",
    "    df[df.columns[i]]=df[df.columns[i]].str.replace('999','')\n",
    "    df[df.columns[i]]=df[df.columns[i]].str.replace('888','')\n",
    "    df[df.columns[i]]=df[df.columns[i]].str.replace('777','')\n",
    "    df[df.columns[i]]=df[df.columns[i]].str.replace('.0','')\n",
    "    df[df.columns[i]]=df[df.columns[i]].str.replace('nan','')\n",
    "df=df.replace('',np.nan)\n",
    "df['1_6'].value_counts()"
   ]
  },
  {
   "cell_type": "code",
   "execution_count": 4,
   "id": "ce33bcce",
   "metadata": {},
   "outputs": [
    {
     "data": {
      "text/plain": [
       "4     58\n",
       "3     55\n",
       "7     34\n",
       "21    32\n",
       "18    30\n",
       "8     29\n",
       "17    28\n",
       "22    28\n",
       "16    26\n",
       "11    21\n",
       "1     16\n",
       "9     16\n",
       "6     12\n",
       "13     8\n",
       "2      6\n",
       "14     6\n",
       "19     4\n",
       "5      4\n",
       "12     3\n",
       "15     3\n",
       "no     2\n",
       "Name: 2_5, dtype: int64"
      ]
     },
     "execution_count": 4,
     "metadata": {},
     "output_type": "execute_result"
    }
   ],
   "source": [
    "# 欄位2_5無法轉換為數字格式，發現包含no，以題目敘述，填寫no表示以上店家都不推薦，因此轉換為空值\n",
    "# 4. 請勾選您在逢甲商圈曾經嘗試過的飲料店? (可複選) \n",
    "# 1.□ 金享 2.□ 緣棧 3.□ 大苑子 4.□ 五十嵐 5.□ 甲文青\n",
    "# 6.□ 幸福堂 7.□ 珍煮丹 8.□ 茶湯會 9.□ 斜角巷 10.□ 喫茶趣\n",
    "# 11.□ 蔡大明 12.□ 鮮果匠 13.□ 鮮茶道 14.□ Double A 15.□ 良辰吉時\n",
    "# 16.□ 清心福全 17.□ 圓石禪飲 18.□ 一芳水果茶 19.□ 手作功夫茶\n",
    "# 20.□ 可不可熟成紅茶 21.□ 超好喝木瓜牛奶 22. □ 其他____________\n",
    "# 5. 呈上題，您最推薦的飲料店家是(請填上述 1 個編號) __________\n",
    "\n",
    "df['2_5'].value_counts()"
   ]
  },
  {
   "cell_type": "code",
   "execution_count": 5,
   "id": "5e3f4cbe",
   "metadata": {},
   "outputs": [],
   "source": [
    "df['2_5']=df['2_5'].replace('no',np.nan)"
   ]
  },
  {
   "cell_type": "code",
   "execution_count": 6,
   "id": "d7d716d4",
   "metadata": {},
   "outputs": [
    {
     "data": {
      "text/plain": [
       "台北      22\n",
       "台南       9\n",
       "高雄       9\n",
       "新北       8\n",
       "桃園       7\n",
       "新竹       5\n",
       "馬來西亞     3\n",
       "香港       3\n",
       "屏東       2\n",
       "澳門       1\n",
       "宜蘭       1\n",
       "日本       1\n",
       "中壢       1\n",
       "新加坡      1\n",
       "Name: 3_4_1, dtype: int64"
      ]
     },
     "execution_count": 6,
     "metadata": {},
     "output_type": "execute_result"
    }
   ],
   "source": [
    "# 部分欄位為「其他」的填空題，不適合放在一起統計，所以先刪除\n",
    "# 如欄位3_4_1為這題4其他的填寫處\n",
    "# 您目前的居住地(非戶籍地)是哪個縣市？\n",
    "# 1.□ 台中市 2.□ 彰化縣 3.□ 苗栗、南投、雲林、嘉義地區 4.□ 其他\n",
    "df['3_4_1'].value_counts()"
   ]
  },
  {
   "cell_type": "code",
   "execution_count": 7,
   "id": "06ad7d45",
   "metadata": {},
   "outputs": [
    {
     "data": {
      "text/plain": [
       "Index(['2_2_8_1', '2_4_22_1', '2_6_9_1', '2_9_10_1', '3_4_1', '3_7_2',\n",
       "       '3_7_2_9', '3_7_2_10', '3_8_1', '3_9_2'],\n",
       "      dtype='object')"
      ]
     },
     "execution_count": 7,
     "metadata": {},
     "output_type": "execute_result"
    }
   ],
   "source": [
    "# 找出空值多於一半的欄位並刪除\n",
    "df.columns[df.isna().sum() > len(df) / 2]"
   ]
  },
  {
   "cell_type": "code",
   "execution_count": 8,
   "id": "e9236854",
   "metadata": {},
   "outputs": [
    {
     "data": {
      "text/plain": [
       "False"
      ]
     },
     "execution_count": 8,
     "metadata": {},
     "output_type": "execute_result"
    }
   ],
   "source": [
    "dropCols=df.drop(columns=['2_2_8_1', '2_4_22_1', '2_6_9_1', '2_9_10_1', '3_4_1', '3_7_2',\n",
    "       '3_7_2_9', '3_7_2_10', '3_8_1', '3_9_2'])\n",
    "\n",
    "# 由於欄位都是類別型資料，所以缺失值都補眾數\n",
    "# dropCols = dropCols.replace('',(raw.mode().iloc[0]))\n",
    "dropCols = dropCols.fillna(raw.mode().iloc[0])\n",
    "\n",
    "for i in range(dropCols.shape[1]):\n",
    "    dropCols[dropCols.columns[i]]=dropCols[dropCols.columns[i]].str.replace('.0','')\n",
    "# 確認是否還有缺失值 (false無缺失值)    \n",
    "dropCols = dropCols.fillna(raw.mode().iloc[0])\n",
    "dropCols.isna().any().any()\n",
    "# dropCols['1_6'].value_counts()"
   ]
  },
  {
   "cell_type": "markdown",
   "id": "76e35abd",
   "metadata": {},
   "source": [
    " <a name=\"特徵工程&找尋對店家有用的資訊\"></a>\n",
    "## 特徵工程&找尋對店家有用的資訊"
   ]
  },
  {
   "cell_type": "code",
   "execution_count": 9,
   "id": "4b42a711",
   "metadata": {},
   "outputs": [
    {
     "data": {
      "text/plain": [
       "3      232\n",
       "2      148\n",
       "4       48\n",
       "1       29\n",
       "6       18\n",
       "5       15\n",
       "3.0     10\n",
       "Name: 2_3, dtype: int64"
      ]
     },
     "execution_count": 9,
     "metadata": {},
     "output_type": "execute_result"
    }
   ],
   "source": [
    "# 假設我想在在逢甲商圈開設飲料店，並且想從資料中獲取有用資訊，那我會想先分析以下的問題，看要走加盟店或是特色飲料店\n",
    "# 3. 您在逢甲商圈偏好在連鎖飲料店或逢甲特色飲料店消費?\n",
    "# 1.□ 只願意購買特色飲料店 2.□ 偏好特色飲料店 3.□ 都願意\n",
    "# 4.□ 偏好連鎖飲料店 5.□ 只願意購買連鎖飲料店 6.□ 沒有喝飲料的習慣\n",
    "dropCols['2_3'].value_counts()"
   ]
  },
  {
   "cell_type": "code",
   "execution_count": 10,
   "id": "0ae48363",
   "metadata": {},
   "outputs": [
    {
     "data": {
      "text/plain": [
       "3    242\n",
       "2    148\n",
       "4     48\n",
       "1     29\n",
       "6     18\n",
       "5     15\n",
       "Name: 2_3, dtype: int64"
      ]
     },
     "execution_count": 10,
     "metadata": {},
     "output_type": "execute_result"
    }
   ],
   "source": [
    "# 發現3.0應該要跟3合併，因此把.0排除掉\n",
    "dropCols=dropCols.astype(str)\n",
    "for i in range(dropCols.shape[1]):\n",
    "    # dropCols[dropCols.columns[i]].str.replace('.0','')\n",
    "    dropCols[dropCols.columns[i]] = dropCols[dropCols.columns[i]].str.replace('.0','')\n",
    "dropCols['2_3'].value_counts()"
   ]
  },
  {
   "cell_type": "markdown",
   "id": "b2b9838c",
   "metadata": {},
   "source": [
    " <a name=\"卡方檢定&特色飲料客群的特徵\"></a>\n",
    "## 卡方檢定&特色飲料客群的特徵"
   ]
  },
  {
   "cell_type": "code",
   "execution_count": 11,
   "id": "3e8debb6",
   "metadata": {},
   "outputs": [],
   "source": [
    "# 接著來看偏好特色飲料店的客群，他們有什麼特徵，與非偏好特色飲料店客群的區別\n",
    "sepcial=dropCols[(dropCols['2_3'] == '1') | (dropCols['2_3'] == '2')]\n",
    "other=dropCols[~(dropCols['2_3'] == '1') & ~(dropCols['2_3'] == '2')]"
   ]
  },
  {
   "cell_type": "code",
   "execution_count": 12,
   "id": "fc6f6697",
   "metadata": {},
   "outputs": [
    {
     "name": "stdout",
     "output_type": "stream",
     "text": [
      "  index  2_2_1   percent\n",
      "0     1     90  0.508475\n",
      "1     0     87  0.491525\n",
      "  index  2_2_1   percent\n",
      "0     1    210  0.650155\n",
      "1     0    113  0.349845\n",
      "Chi-Square statistic: 28.50547545261962\n",
      "P-value: 9.3433884267113e-08\n"
     ]
    }
   ],
   "source": [
    "# 2. 您這次在逢甲商圈會購買下列哪一類型的飲料? (可複選)\n",
    "#  1.□ 茶類 2.□ 鮮奶類(ex:奶茶、紅茶拿鐵) \n",
    "#  3.□ 鮮果類 4.□ 調酒類 5.□ 氣泡飲 \n",
    "#  6.□ 冰沙 7.□ 咖啡 8.□ 其他____________\n",
    "\n",
    "#偏好特色飲料店的人較不愛購買茶類(50.85% VS 65.02%)，且有顯著差距(P < 0.05)\n",
    "from scipy.stats import chisquare\n",
    "def chi(raw, df, column_name, percent):\n",
    "    raw['percent'] = raw[column_name] / raw[column_name].sum()\n",
    "    print(raw)\n",
    "\n",
    "    df['percent'] = df[column_name] / df[column_name].sum()\n",
    "    print(df)\n",
    "\n",
    "    observed_values_normalized = raw[percent].values  * np.sum(df[column_name].values)\n",
    "    # observed_values_normalized = raw[percent].values  * df[column_name].shape[0]\n",
    "    expected_values_normalized = df[column_name].values \n",
    "\n",
    "    result = chisquare(f_obs=observed_values_normalized, f_exp=expected_values_normalized)\n",
    "    # result = chisquare(f_obs=raw['2_2_1'], f_exp=df['2_2_1'])\n",
    "    print(\"Chi-Square statistic:\", result.statistic)\n",
    "    print(\"P-value:\", result.pvalue)\n",
    "\n",
    "tea = sepcial['2_2_1'].value_counts().reset_index()\n",
    "tea2 = other['2_2_1'].value_counts().reset_index()\n",
    "\n",
    "chi(tea, tea2, '2_2_1', 'percent')"
   ]
  },
  {
   "cell_type": "code",
   "execution_count": 13,
   "id": "4a092043",
   "metadata": {},
   "outputs": [
    {
     "name": "stdout",
     "output_type": "stream",
     "text": [
      "  index  2_2_2   percent\n",
      "0     1    117  0.661017\n",
      "1     0     60  0.338983\n",
      "  index  2_2_2   percent\n",
      "0     1    200  0.619195\n",
      "1     0    123  0.380805\n",
      "Chi-Square statistic: 2.3959626006917967\n",
      "P-value: 0.12164884889301604\n"
     ]
    }
   ],
   "source": [
    "#偏好特色飲料店的人較愛購買鮮奶類，但無顯著差距\n",
    "milk = sepcial['2_2_2'].value_counts().reset_index()\n",
    "milk2 = other['2_2_2'].value_counts().reset_index()\n",
    "chi(milk, milk2, '2_2_2', 'percent')"
   ]
  },
  {
   "cell_type": "code",
   "execution_count": 14,
   "id": "ce36ff6f",
   "metadata": {},
   "outputs": [
    {
     "name": "stdout",
     "output_type": "stream",
     "text": [
      "  index  2_2_3   percent\n",
      "0     0    127  0.717514\n",
      "1     1     50  0.282486\n",
      "  index  2_2_3   percent\n",
      "0     0    203  0.628483\n",
      "1     1    120  0.371517\n",
      "Chi-Square statistic: 10.965142255026262\n",
      "P-value: 0.00092841819416956\n"
     ]
    }
   ],
   "source": [
    "#偏好特色飲料店的人較不愛購買鮮果類，且有顯著差距\n",
    "juice = sepcial['2_2_3'].value_counts().reset_index()\n",
    "juice2 = other['2_2_3'].value_counts().reset_index()\n",
    "chi(juice, juice2, '2_2_3', 'percent')"
   ]
  },
  {
   "cell_type": "code",
   "execution_count": 15,
   "id": "fa6e793c",
   "metadata": {},
   "outputs": [
    {
     "name": "stdout",
     "output_type": "stream",
     "text": [
      "  index  2_2_4   percent\n",
      "0     0    152  0.858757\n",
      "1     1     25  0.141243\n",
      "  index  2_2_4   percent\n",
      "0     0    299  0.925697\n",
      "1     1     24  0.074303\n",
      "Chi-Square statistic: 21.042168016867635\n",
      "P-value: 4.49285577760626e-06\n"
     ]
    }
   ],
   "source": [
    "#偏好特色飲料店的人較愛購買調酒類，且有顯著差距\n",
    "alcohol = sepcial['2_2_4'].value_counts().reset_index()\n",
    "alcohol2 = other['2_2_4'].value_counts().reset_index()\n",
    "chi(alcohol, alcohol2, '2_2_4', 'percent')"
   ]
  },
  {
   "cell_type": "code",
   "execution_count": 16,
   "id": "6ac9fc4e",
   "metadata": {},
   "outputs": [
    {
     "name": "stdout",
     "output_type": "stream",
     "text": [
      "  index  2_2_5   percent\n",
      "0     0    163  0.920904\n",
      "1     1     14  0.079096\n",
      "  index  2_2_5   percent\n",
      "0     0    305  0.944272\n",
      "1     1     18  0.055728\n",
      "Chi-Square statistic: 3.3519425108262597\n",
      "P-value: 0.0671257570717653\n"
     ]
    }
   ],
   "source": [
    "#偏好特色飲料店的人較愛購買氣泡飲，但無顯著差距\n",
    "soda = sepcial['2_2_5'].value_counts().reset_index()\n",
    "soda2 = other['2_2_5'].value_counts().reset_index()\n",
    "chi(soda, soda2, '2_2_5', 'percent')"
   ]
  },
  {
   "cell_type": "code",
   "execution_count": 17,
   "id": "92b757a4",
   "metadata": {},
   "outputs": [
    {
     "name": "stdout",
     "output_type": "stream",
     "text": [
      "  index  2_2_6   percent\n",
      "0     0    153  0.864407\n",
      "1     1     24  0.135593\n",
      "  index  2_2_6   percent\n",
      "0     0    286  0.885449\n",
      "1     1     37  0.114551\n",
      "Chi-Square statistic: 1.4100012156605088\n",
      "P-value: 0.23505619143291318\n"
     ]
    }
   ],
   "source": [
    "#偏好特色飲料店的人較愛購買冰沙，但無顯著差距\n",
    "ice = sepcial['2_2_6'].value_counts().reset_index()\n",
    "ice2 = other['2_2_6'].value_counts().reset_index()\n",
    "chi(ice, ice2, '2_2_6', 'percent')"
   ]
  },
  {
   "cell_type": "code",
   "execution_count": 18,
   "id": "fc24d803",
   "metadata": {},
   "outputs": [
    {
     "name": "stdout",
     "output_type": "stream",
     "text": [
      "  index  2_2_7   percent\n",
      "0     0    160  0.903955\n",
      "1     1     17  0.096045\n",
      "  index  2_2_7   percent\n",
      "0     0    295  0.913313\n",
      "1     1     28  0.086687\n",
      "Chi-Square statistic: 0.3572592698732661\n",
      "P-value: 0.5500323208837616\n"
     ]
    }
   ],
   "source": [
    "#偏好特色飲料店的人較愛購買咖啡，但無顯著差距\n",
    "coffie = sepcial['2_2_7'].value_counts().reset_index()\n",
    "coffie2 = other['2_2_7'].value_counts().reset_index()\n",
    "chi(coffie, coffie2, '2_2_7', 'percent')"
   ]
  },
  {
   "cell_type": "code",
   "execution_count": 19,
   "id": "1a0fd39a",
   "metadata": {},
   "outputs": [],
   "source": [
    "# 特色飲料客群較喜愛購買調酒類，且有顯著差距\n",
    "# 特色飲料客群較喜愛購買鮮奶類、氣泡飲、冰沙、咖啡，但無顯著差距"
   ]
  },
  {
   "cell_type": "code",
   "execution_count": 20,
   "id": "9a9ad786",
   "metadata": {},
   "outputs": [
    {
     "name": "stdout",
     "output_type": "stream",
     "text": [
      "2_9_2\n",
      "  index  2_9_2   percent\n",
      "0     0    135  0.762712\n",
      "1     1     42  0.237288\n",
      "  index  2_9_2  percent\n",
      "0     0    261  0.80805\n",
      "1     1     62  0.19195\n",
      "Chi-Square statistic: 4.280492960514399\n",
      "P-value: 0.03855216565308863 \n",
      "\n",
      "2_9_4\n",
      "  index  2_9_4   percent\n",
      "0     0    166  0.937853\n",
      "1     1     11  0.062147\n",
      "  index  2_9_4   percent\n",
      "0     0    287  0.888545\n",
      "1     1     36  0.111455\n",
      "Chi-Square statistic: 7.929791050747909\n",
      "P-value: 0.004862741215178248 \n",
      "\n",
      "2_9_6\n",
      "  index  2_9_6   percent\n",
      "0     0    128  0.723164\n",
      "1     1     49  0.276836\n",
      "  index  2_9_6   percent\n",
      "0     0    250  0.773994\n",
      "1     1     73  0.226006\n",
      "Chi-Square statistic: 4.770724534185801\n",
      "P-value: 0.028947640785074558 \n",
      "\n",
      "2_9_9\n",
      "  index  2_9_9   percent\n",
      "0     0    170  0.960452\n",
      "1     1      7  0.039548\n",
      "  index  2_9_9   percent\n",
      "0     0    299  0.925697\n",
      "1     1     24  0.074303\n",
      "Chi-Square statistic: 5.672431940438074\n",
      "P-value: 0.017233548479609662 \n",
      "\n"
     ]
    }
   ],
   "source": [
    "# 找尋特色飲料特群較喜愛哪些行銷手法\n",
    "specialMarketing=sepcial[['2_9_1', '2_9_2', '2_9_3', '2_9_4', '2_9_5', '2_9_6', '2_9_7', '2_9_8', '2_9_9', '2_9_10']]\n",
    "otherMarketing=other[['2_9_1', '2_9_2', '2_9_3', '2_9_4', '2_9_5', '2_9_6', '2_9_7', '2_9_8', '2_9_9', '2_9_10']]\n",
    "\n",
    "for i in range(specialMarketing.shape[1]):\n",
    "    a=specialMarketing[specialMarketing.columns[i]].value_counts().reset_index()\n",
    "    a['percent'] = a[a.columns[1]] / a[a.columns[1]].sum()\n",
    "    b=otherMarketing[otherMarketing.columns[i]].value_counts().reset_index()\n",
    "    b['percent'] = b[b.columns[1]] / b[a.columns[1]].sum()\n",
    "    \n",
    "    observed_values_normalized = a['percent'].values  * otherMarketing.shape[0]\n",
    "    expected_values_normalized = b[b.columns[1]].values \n",
    "\n",
    "    result = chisquare(f_obs=observed_values_normalized, f_exp=expected_values_normalized)\n",
    "\n",
    "    if result.pvalue < 0.05:\n",
    "        print(specialMarketing.columns[i],)\n",
    "        print(a)\n",
    "        print(b)\n",
    "        print(\"Chi-Square statistic:\", result.statistic)\n",
    "        print(\"P-value:\", result.pvalue,'\\n')"
   ]
  },
  {
   "cell_type": "code",
   "execution_count": 21,
   "id": "adc84393",
   "metadata": {},
   "outputs": [],
   "source": [
    "# 特色飲料客群較喜愛：2_9_2每日限量、2_9_6試飲\n",
    "# 特色飲料客群較不喜愛：2_9_4會員卡優惠、2_9_9app抽獎優惠\n",
    "# 沒有顯著差距：2_9_1買一送一、2_9_3自帶環保杯折價、2_9_5打卡優惠、2_9_7一日店長、2_9_8部落客推薦、2_9_10其他"
   ]
  },
  {
   "cell_type": "markdown",
   "id": "3357227b",
   "metadata": {},
   "source": [
    " <a name=\"t-test&特色飲料客群的特徵\"></a>\n",
    "## t-test&特色飲料客群的特徵"
   ]
  },
  {
   "cell_type": "code",
   "execution_count": 22,
   "id": "afdd612e",
   "metadata": {},
   "outputs": [],
   "source": [
    "# 1_1認為逢甲商圈的商品具獨特性 6：最高同意～1：最低同意\n",
    "\n",
    "# 很多問卷題目是像1_1這樣，因為填寫者只能填1到6，所以是類別型資料，但我不認為適合當類別型資料處理，因為若視為類別型資料，假如：\n",
    "# 第一群：A組所有人都填6，B組所有人都填5\n",
    "# 第二群：C組所有人都填6，D組所有人都填1\n",
    "# 這兩群計算的的結果會相同，但是對店家而言完全不同，第一群AB兩組都同意，第二群則C組全都很同意、D組都很不同意\n",
    "\n",
    "# 因此我想先把資料轉換為連續型資料：\n",
    "# 6轉為3、5轉為2、4轉為1，3轉為-1、2轉為-2、1轉為-3\n",
    "# 雖然以統計角度而言，1個非常認同 ≠ 3個認同，但是我認為這樣轉換還是會好過當成類別型資料處理\n",
    "\n",
    "numeric=[ '1_1', '1_2',\n",
    "       '1_3', '1_4', '1_5', '1_6', '1_7', '1_8', '1_9', '1_10', '1_11', '1_12',\n",
    "       '1_13', '1_14', '2_1_a', '2_1_b', '2_1_c', '2_1_d', '2_1_e']\n",
    "continuous=dropCols.copy()\n",
    "\n",
    "for i in range(len(continuous[numeric].columns)):\n",
    "       continuous[continuous[numeric].columns[i]] = continuous[continuous[numeric].columns[i]].replace('3','-2')\n",
    "       continuous[continuous[numeric].columns[i]] = continuous[continuous[numeric].columns[i]].replace('2','-4')\n",
    "       continuous[continuous[numeric].columns[i]] = continuous[continuous[numeric].columns[i]].replace('1','-6')\n",
    "       continuous[continuous[numeric].columns[i]] = continuous[continuous[numeric].columns[i]].replace('6','6')\n",
    "       continuous[continuous[numeric].columns[i]] = continuous[continuous[numeric].columns[i]].replace('5','4')\n",
    "       continuous[continuous[numeric].columns[i]] = continuous[continuous[numeric].columns[i]].replace('4','2')\n",
    "\n",
    "\n",
    "\n",
    "# 2_7您通常在逢甲商圈購買一杯飲料的金額為多少?\t1：35元以下；2：36-50元；3：51-65元；4：66-80元；5：81元以上\n",
    "# 2_8您購買飲料時，願意花多少時間等待? \t1：5分鐘以內；2：6-10分鐘；3：11-15分鐘；4：16-20分鐘；5：21分鐘以上\n",
    "# 這兩題都是越高對高家越好，所以轉換方式一樣\n",
    "continuous['2_7'] = continuous['2_7'].replace('1','6')\n",
    "continuous['2_7'] = continuous['2_7'].replace('2','3')\n",
    "continuous['2_7'] = continuous['2_7'].replace('3','0')\n",
    "continuous['2_7'] = continuous['2_7'].replace('4','-3')\n",
    "continuous['2_7'] = continuous['2_7'].replace('5','-6')\n",
    "\n",
    "continuous['2_8'] = continuous['2_8'].replace('1','6')\n",
    "continuous['2_8'] = continuous['2_8'].replace('2','3')\n",
    "continuous['2_8'] = continuous['2_8'].replace('3','0')\n",
    "continuous['2_8'] = continuous['2_8'].replace('4','-3')\n",
    "continuous['2_8'] = continuous['2_8'].replace('5','-6')\n",
    "\n",
    "# 2_3您在逢甲商圈偏好在連鎖飲料店或逢甲特色飲料店消費?\t1：只願意購買特色飲料店；2：偏好特色飲料店；3：都願意；4：偏好連鎖飲料店；5：只願意購買連鎖飲料店；6：沒有喝飲料的習慣\n",
    "# 我想把這題轉換為越喜愛特色飲料店則分數越高\n",
    "continuous['2_3'] = continuous['2_3'].replace('1','6')\n",
    "continuous['2_3'] = continuous['2_3'].replace('2','3')\n",
    "continuous['2_3'] = continuous['2_3'].replace('3','0')\n",
    "continuous['2_3'] = continuous['2_3'].replace('4','-3')\n",
    "continuous['2_3'] = continuous['2_3'].replace('5','-6')\n",
    "continuous['2_3'] = continuous['2_3'].replace('6','0')\n",
    "\n",
    "numeric2=[ '1_1', '1_2',\n",
    "       '1_3', '1_4', '1_5', '1_6', '1_7', '1_8', '1_9', '1_10', '1_11', '1_12',\n",
    "       '1_13', '1_14', '2_1_a', '2_1_b', '2_1_c', '2_1_d', '2_1_e','2_3','2_7','2_8']\n",
    "\n",
    "continuous[numeric2] = continuous[numeric2].astype(int)\n",
    "\n",
    "continuousOnly=continuous[numeric2]\n",
    "\n",
    "# 接著來看偏好特色飲料店的客群，他們有什麼特徵，與非偏好特色飲料店客群的區別\n",
    "# x=continuousOnly.drop(columns='2_3')\n",
    "# y=continuousOnly.\n",
    "spicialContinuous=continuousOnly[(continuousOnly['2_3'] == 2) | (continuousOnly['2_3'] == 1)]\n",
    "otherContinuous=continuousOnly[~(continuousOnly['2_3'] == 2) & ~(continuousOnly['2_3'] == 1)]"
   ]
  },
  {
   "cell_type": "code",
   "execution_count": 23,
   "id": "1b1155a4",
   "metadata": {},
   "outputs": [],
   "source": [
    "import scipy.stats as stats\n",
    "\n",
    "for i in range(spicialContinuous.shape[1]):\n",
    "    t_statistic, p_value = stats.ttest_ind(spicialContinuous[spicialContinuous.columns[i]], otherContinuous[otherContinuous.columns[i]],equal_var=False)\n",
    "    if p_value <= 0.05: \n",
    "        print(spicialContinuous.columns[i])\n",
    "        print('特色飲料客群平均值:',spicialContinuous[spicialContinuous.columns[i]].mean())\n",
    "        print('其他客群平均值:',otherContinuous[otherContinuous.columns[i]].mean())\n",
    "        print('t_statistic:',t_statistic)\n",
    "        print('p_value:',p_value,'\\n')\n",
    "        pass\n",
    "    \n",
    "\n",
    "\n",
    "# for i in range(spicialContinuous.shape[1]):\n",
    "#     if p_value[i] <= 0.05: \n",
    "#         ttest(spicialContinuous,otherContinuous,spicialContinuous.columns[0])\n",
    "#     pass\n",
    "# aa\n",
    "\n",
    "# ttest(spicialContinuous,otherContinuous,spicialContinuous.columns[0])"
   ]
  },
  {
   "cell_type": "code",
   "execution_count": 24,
   "id": "0496bf0e",
   "metadata": {},
   "outputs": [],
   "source": [
    "# 以下類別特色飲料客群顯著較同意：\n",
    "# 逢甲商圈的商品較有獨特性(1_1)、商品價格低廉(1_3)\n",
    "# 在逢甲商圈購買飲料的動機包含：口味的獨特性(2_1_a)、包裝的獨特性(2_1_b)\n",
    "# 在逢甲商圈通常花較低的價格購買一杯飲料(2_7、約61元)、非特色飲料特群約67元"
   ]
  },
  {
   "cell_type": "markdown",
   "id": "8ddd6679",
   "metadata": {},
   "source": [
    " <a name=\"找尋價格最受到哪些因素影響\"></a>\n",
    "## 找尋價格最受到哪些因素影響"
   ]
  },
  {
   "cell_type": "code",
   "execution_count": 25,
   "id": "5c511227",
   "metadata": {},
   "outputs": [
    {
     "name": "stdout",
     "output_type": "stream",
     "text": [
      "2_7    1.000000\n",
      "2_8    0.125899\n",
      "Name: 2_7, dtype: float64\n",
      "1_3     -0.136287\n",
      "1_7     -0.108981\n",
      "2_1_d   -0.124914\n",
      "Name: 2_7, dtype: float64\n"
     ]
    }
   ],
   "source": [
    "import matplotlib.pyplot as plt\n",
    "\n",
    "# 我發現特色飲料客群在逢甲商圈通常花較低的價格購買一杯飲料，因此想深入探討是哪些因素影響客群購買飲料的價格，把飲料價格設為y，其他項目設為x\n",
    "\n",
    "continuous['2_3'] = continuous['2_3'].astype(str)\n",
    "continuous['特色飲料客群'] = np.where(continuous['2_3'] == '1','1',\n",
    "                          np.where(continuous['2_3'] == '2','1',\n",
    "                          '0'))\n",
    "y = continuous['2_7']\n",
    "x = continuous.drop(columns='2_7')\n",
    "\n",
    "correlation_matrix = continuous.corr()\n",
    "\n",
    "correlation_with_target = correlation_matrix['2_7']\n",
    "\n",
    "print(correlation_with_target[correlation_with_target > 0.1])\n",
    "print(correlation_with_target[correlation_with_target < -0.1])\n"
   ]
  },
  {
   "cell_type": "code",
   "execution_count": 26,
   "id": "2bda3065",
   "metadata": {},
   "outputs": [
    {
     "data": {
      "image/png": "[encoded data removed]",
      "text/plain": [
       "<Figure size 576x432 with 1 Axes>"
      ]
     },
     "metadata": {
      "needs_background": "light"
     },
     "output_type": "display_data"
    }
   ],
   "source": [
    "# 飲品購買價格跟其他因素的相關性都相當低，再畫圖比較相關性看看\n",
    "counts = continuous.groupby(['2_8', '2_7']).size().reset_index(name='count')\n",
    "\n",
    "plt.figure(figsize=(8, 6))  # Optional: set the figure size\n",
    "plt.scatter(continuous['2_8'], continuous['2_7'], s=100, label='Data Points')  # 's' controls the marker size\n",
    "\n",
    "# Label points with their value counts\n",
    "for i, row in counts.iterrows():\n",
    "    x2, y2, count = row['2_8'], row['2_7'], row['count']\n",
    "    plt.annotate(f'{count}', (x2, y2), textcoords='offset points', xytext=(0,10), ha='center')\n",
    "\n",
    "# Optional: Add labels and a title\n",
    "plt.xlabel('2_8')\n",
    "plt.ylabel('2_7')\n",
    "plt.title('Scatter Plot with Value Counts')\n",
    "\n",
    "# Show the plot\n",
    "plt.legend()\n",
    "plt.grid()\n",
    "plt.show()"
   ]
  },
  {
   "cell_type": "code",
   "execution_count": 27,
   "id": "8bb62593",
   "metadata": {},
   "outputs": [
    {
     "data": {
      "image/png": "[encoded data removed]",
      "text/plain": [
       "<Figure size 576x432 with 1 Axes>"
      ]
     },
     "metadata": {
      "needs_background": "light"
     },
     "output_type": "display_data"
    }
   ],
   "source": [
    "counts = continuous.groupby(['1_3', '2_7']).size().reset_index(name='count')\n",
    "\n",
    "plt.figure(figsize=(8, 6))  # Optional: set the figure size\n",
    "plt.scatter(continuous['1_3'], continuous['2_7'], s=100, label='Data Points')  # 's' controls the marker size\n",
    "\n",
    "# Label points with their value counts\n",
    "for i, row in counts.iterrows():\n",
    "    x2, y2, count = row['1_3'], row['2_7'], row['count']\n",
    "    plt.annotate(f'{count}', (x2, y2), textcoords='offset points', xytext=(0,10), ha='center')\n",
    "\n",
    "# Optional: Add labels and a title\n",
    "plt.xlabel('1_3')\n",
    "plt.ylabel('2_7')\n",
    "plt.title('Scatter Plot with Value Counts')\n",
    "\n",
    "# Show the plot\n",
    "plt.legend()\n",
    "plt.grid()\n",
    "plt.show()"
   ]
  },
  {
   "cell_type": "code",
   "execution_count": 28,
   "id": "e55080c8",
   "metadata": {},
   "outputs": [
    {
     "data": {
      "image/png": "[encoded data removed]",
      "text/plain": [
       "<Figure size 576x432 with 1 Axes>"
      ]
     },
     "metadata": {
      "needs_background": "light"
     },
     "output_type": "display_data"
    }
   ],
   "source": [
    "counts = continuous.groupby(['1_4', '2_7']).size().reset_index(name='count')\n",
    "\n",
    "plt.figure(figsize=(8, 6))  # Optional: set the figure size\n",
    "plt.scatter(continuous['1_4'], continuous['2_7'], s=100, label='Data Points')  # 's' controls the marker size\n",
    "\n",
    "# Label points with their value counts\n",
    "for i, row in counts.iterrows():\n",
    "    x2, y2, count = row['1_4'], row['2_7'], row['count']\n",
    "    plt.annotate(f'{count}', (x2, y2), textcoords='offset points', xytext=(0,10), ha='center')\n",
    "\n",
    "# Optional: Add labels and a title\n",
    "plt.xlabel('1_4')\n",
    "plt.ylabel('2_7')\n",
    "plt.title('Scatter Plot with Value Counts')\n",
    "\n",
    "# Show the plot\n",
    "plt.legend()\n",
    "plt.grid()\n",
    "plt.show()"
   ]
  },
  {
   "cell_type": "code",
   "execution_count": 29,
   "id": "4ccb01be",
   "metadata": {},
   "outputs": [
    {
     "data": {
      "image/png": "[encoded data removed]",
      "text/plain": [
       "<Figure size 576x432 with 1 Axes>"
      ]
     },
     "metadata": {
      "needs_background": "light"
     },
     "output_type": "display_data"
    }
   ],
   "source": [
    "counts = continuous.groupby(['2_1_d', '2_7']).size().reset_index(name='count')\n",
    "\n",
    "plt.figure(figsize=(8, 6))  # Optional: set the figure size\n",
    "plt.scatter(continuous['2_1_d'], continuous['2_7'], s=100, label='Data Points')  # 's' controls the marker size\n",
    "\n",
    "# Label points with their value counts\n",
    "for i, row in counts.iterrows():\n",
    "    x2, y2, count = row['2_1_d'], row['2_7'], row['count']\n",
    "    plt.annotate(f'{count}', (x2, y2), textcoords='offset points', xytext=(0,10), ha='center')\n",
    "\n",
    "# Optional: Add labels and a title\n",
    "plt.xlabel('2_1_d')\n",
    "plt.ylabel('2_7')\n",
    "plt.title('Scatter Plot with Value Counts')\n",
    "\n",
    "# Show the plot\n",
    "plt.legend()\n",
    "plt.grid()\n",
    "plt.show()"
   ]
  },
  {
   "cell_type": "code",
   "execution_count": 30,
   "id": "f2eeb20c",
   "metadata": {},
   "outputs": [],
   "source": [
    "# 以圖表來看，相關性也不高\n",
    "# 由於連一個高相關性的特徵都沒有，就不繼續做機器學習了\n",
    "# 不然很容易garbage in garbage out，得出不符合實際情況的結論"
   ]
  },
  {
   "cell_type": "markdown",
   "id": "5cc8c2d3",
   "metadata": {},
   "source": [
    " <a name=\"小結\"></a>\n",
    "## 小結\n",
    "數據分析有很多需要注重的思考點，這份資料的來源是請路人填問卷，也就是抽樣調查，但填問卷方式蒐集到的資料有時不能代表母體，因為願意填問卷的人通常是比較熱心或是不善常拒絕的人，而願意填問卷與不願意填問卷的群體，很可能在某些方面也有顯著差距，加上這些是107年的資訊，因此很可能不適用於現今情況\n",
    "\n",
    "若是數據分析的內容更需要精確性，蒐集樣本的方式也需要審慎考慮，像是用抽獎問卷，若有漏填則失去資格等等，讓大部分的群體都願意認真填問卷"
   ]
  }
 ],
 "metadata": {
  "kernelspec": {
   "display_name": "Python 3",
   "language": "python",
   "name": "python3"
  },
  "language_info": {
   "codemirror_mode": {
    "name": "ipython",
    "version": 3
   },
   "file_extension": ".py",
   "mimetype": "text/x-python",
   "name": "python",
   "nbconvert_exporter": "python",
   "pygments_lexer": "ipython3",
   "version": "3.10.3"
  },
  "vscode": {
   "interpreter": {
    "hash": "3b7e9cb8e453d6cda0fe8c8dd13f891a1f09162f0e7c66ffeae7751a7aecf00d"
   }
  }
 },
 "nbformat": 4,
 "nbformat_minor": 5
}
