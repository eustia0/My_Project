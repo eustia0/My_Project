{
 "cells": [
  {
   "cell_type": "markdown",
   "id": "7654c02e",
   "metadata": {},
   "source": [
    "* [前言&資料預處理](#前言&資料預處理)\n",
    "* [特徵工程&找尋對店家有用的資訊](#特徵工程&找尋對店家有用的資訊)\n",
    "* [卡方檢定&特色飲料客群的特徵](#卡方檢定&特色飲料客群的特徵)\n",
    "* [小結](#小結)"
   ]
  },
  {
   "cell_type": "markdown",
   "id": "70d878d9",
   "metadata": {},
   "source": [
    " <a name=\"前言&資料預處理\"></a>\n",
    "## 前言&資料預處理"
   ]
  },
  {
   "cell_type": "code",
   "execution_count": 1,
   "id": "618248da",
   "metadata": {},
   "outputs": [],
   "source": [
    "# 我最近回去看了大學做的專題，覺得過去有些統計內容沒什麼統計意義，像是這個：\n",
    "# 在性別方面與等待時間做交叉列表和卡方檢定\n",
    "# 卡方檢定的假設：\n",
    "# H0：等待時間和性別獨立\n",
    "# Ha：等待時間和性別不獨立\n",
    "\n",
    "# 即便顧客願意等待的時間與性別不獨立，假如女姓願意等比較久，店家也不可能由於此便先做男性的餐點，所以我覺得這對店家是沒什麼意義的資訊\n",
    "# 所以我想以目前所學的專業，再做一次大學專題看看\n",
    "\n",
    "# 問卷內容: https://docs.google.com/document/d/1iRGezP8tFIvxEyNn64fMnIX6W8hRYuZrAacuYqF3V6I/edit?usp=sharing\n",
    "# 專題PDF: https://drive.google.com/file/d/1PA3fPIAzuRSKE5UZoWLe27fAYS2VUaWh/view?usp=sharing"
   ]
  },
  {
   "cell_type": "code",
   "execution_count": 2,
   "id": "d7d4af5b",
   "metadata": {},
   "outputs": [
    {
     "name": "stdout",
     "output_type": "stream",
     "text": [
      "(500, 103)\n"
     ]
    },
    {
     "data": {
      "text/html": [
       "<div>\n",
       "<style scoped>\n",
       "    .dataframe tbody tr th:only-of-type {\n",
       "        vertical-align: middle;\n",
       "    }\n",
       "\n",
       "    .dataframe tbody tr th {\n",
       "        vertical-align: top;\n",
       "    }\n",
       "\n",
       "    .dataframe thead th {\n",
       "        text-align: right;\n",
       "    }\n",
       "</style>\n",
       "<table border=\"1\" class=\"dataframe\">\n",
       "  <thead>\n",
       "    <tr style=\"text-align: right;\">\n",
       "      <th></th>\n",
       "      <th>流水號</th>\n",
       "      <th>訪員編號</th>\n",
       "      <th>受訪地點</th>\n",
       "      <th>受訪時間</th>\n",
       "      <th>同遊人數(含受訪者)</th>\n",
       "      <th>受訪者性別</th>\n",
       "      <th>1_1</th>\n",
       "      <th>1_2</th>\n",
       "      <th>1_3</th>\n",
       "      <th>1_4</th>\n",
       "      <th>1_5</th>\n",
       "      <th>1_6</th>\n",
       "      <th>1_7</th>\n",
       "      <th>1_8</th>\n",
       "      <th>1_9</th>\n",
       "      <th>1_10</th>\n",
       "      <th>1_11</th>\n",
       "      <th>1_12</th>\n",
       "      <th>1_13</th>\n",
       "      <th>1_14</th>\n",
       "      <th>2_1_a</th>\n",
       "      <th>2_1_b</th>\n",
       "      <th>2_1_c</th>\n",
       "      <th>2_1_d</th>\n",
       "      <th>2_1_e</th>\n",
       "      <th>2_2_1</th>\n",
       "      <th>2_2_2</th>\n",
       "      <th>2_2_3</th>\n",
       "      <th>2_2_4</th>\n",
       "      <th>2_2_5</th>\n",
       "      <th>2_2_6</th>\n",
       "      <th>2_2_7</th>\n",
       "      <th>2_2_8</th>\n",
       "      <th>2_2_8_1</th>\n",
       "      <th>2_3</th>\n",
       "      <th>2_4_1</th>\n",
       "      <th>2_4_2</th>\n",
       "      <th>2_4_3</th>\n",
       "      <th>2_4_4</th>\n",
       "      <th>2_4_5</th>\n",
       "      <th>2_4_6</th>\n",
       "      <th>2_4_7</th>\n",
       "      <th>2_4_8</th>\n",
       "      <th>2_4_9</th>\n",
       "      <th>2_4_10</th>\n",
       "      <th>2_4_11</th>\n",
       "      <th>2_4_12</th>\n",
       "      <th>2_4_13</th>\n",
       "      <th>2_4_14</th>\n",
       "      <th>2_4_15</th>\n",
       "      <th>2_4_16</th>\n",
       "      <th>2_4_17</th>\n",
       "      <th>2_4_18</th>\n",
       "      <th>2_4_19</th>\n",
       "      <th>2_4_20</th>\n",
       "      <th>2_4_21</th>\n",
       "      <th>2_4_22</th>\n",
       "      <th>2_4_22_1</th>\n",
       "      <th>2_5</th>\n",
       "      <th>2_6_1</th>\n",
       "      <th>2_6_2</th>\n",
       "      <th>2_6_3</th>\n",
       "      <th>2_6_4</th>\n",
       "      <th>2_6_5</th>\n",
       "      <th>2_6_6</th>\n",
       "      <th>2_6_7</th>\n",
       "      <th>2_6_8</th>\n",
       "      <th>2_6_9</th>\n",
       "      <th>2_6_9_1</th>\n",
       "      <th>2_7</th>\n",
       "      <th>2_8</th>\n",
       "      <th>2_9_1</th>\n",
       "      <th>2_9_2</th>\n",
       "      <th>2_9_3</th>\n",
       "      <th>2_9_4</th>\n",
       "      <th>2_9_5</th>\n",
       "      <th>2_9_6</th>\n",
       "      <th>2_9_7</th>\n",
       "      <th>2_9_8</th>\n",
       "      <th>2_9_9</th>\n",
       "      <th>2_9_10</th>\n",
       "      <th>2_9_10_1</th>\n",
       "      <th>3_1_1</th>\n",
       "      <th>3_1_2</th>\n",
       "      <th>3_1_3</th>\n",
       "      <th>3_1_4</th>\n",
       "      <th>3_1_5</th>\n",
       "      <th>3_1_6</th>\n",
       "      <th>3_2</th>\n",
       "      <th>3_3</th>\n",
       "      <th>3_4</th>\n",
       "      <th>3_4_1</th>\n",
       "      <th>3_5</th>\n",
       "      <th>3_6</th>\n",
       "      <th>3_7_1</th>\n",
       "      <th>3_7_2</th>\n",
       "      <th>3_7_2_9</th>\n",
       "      <th>3_7_2_10</th>\n",
       "      <th>3_8</th>\n",
       "      <th>3_8_1</th>\n",
       "      <th>3_9_1</th>\n",
       "      <th>3_9_2</th>\n",
       "      <th>3_10</th>\n",
       "    </tr>\n",
       "  </thead>\n",
       "  <tbody>\n",
       "    <tr>\n",
       "      <th>0</th>\n",
       "      <td>1</td>\n",
       "      <td>2</td>\n",
       "      <td>1</td>\n",
       "      <td>20181122</td>\n",
       "      <td>1</td>\n",
       "      <td>0</td>\n",
       "      <td>5</td>\n",
       "      <td>5</td>\n",
       "      <td>1</td>\n",
       "      <td>4</td>\n",
       "      <td>4</td>\n",
       "      <td>5.0</td>\n",
       "      <td>4</td>\n",
       "      <td>1</td>\n",
       "      <td>4</td>\n",
       "      <td>4</td>\n",
       "      <td>5</td>\n",
       "      <td>3</td>\n",
       "      <td>5</td>\n",
       "      <td>4</td>\n",
       "      <td>5</td>\n",
       "      <td>4</td>\n",
       "      <td>4</td>\n",
       "      <td>5</td>\n",
       "      <td>4</td>\n",
       "      <td>1</td>\n",
       "      <td>1</td>\n",
       "      <td>0</td>\n",
       "      <td>0</td>\n",
       "      <td>0</td>\n",
       "      <td>0</td>\n",
       "      <td>0</td>\n",
       "      <td>0</td>\n",
       "      <td>888</td>\n",
       "      <td>2</td>\n",
       "      <td>0</td>\n",
       "      <td>0</td>\n",
       "      <td>1</td>\n",
       "      <td>1</td>\n",
       "      <td>1</td>\n",
       "      <td>0</td>\n",
       "      <td>1</td>\n",
       "      <td>1</td>\n",
       "      <td>0</td>\n",
       "      <td>0</td>\n",
       "      <td>0</td>\n",
       "      <td>0</td>\n",
       "      <td>0</td>\n",
       "      <td>0</td>\n",
       "      <td>0</td>\n",
       "      <td>1</td>\n",
       "      <td>1</td>\n",
       "      <td>1</td>\n",
       "      <td>0</td>\n",
       "      <td>0</td>\n",
       "      <td>0</td>\n",
       "      <td>0</td>\n",
       "      <td>888</td>\n",
       "      <td>3</td>\n",
       "      <td>0</td>\n",
       "      <td>0</td>\n",
       "      <td>1</td>\n",
       "      <td>0</td>\n",
       "      <td>0</td>\n",
       "      <td>0</td>\n",
       "      <td>0</td>\n",
       "      <td>0</td>\n",
       "      <td>0</td>\n",
       "      <td>888</td>\n",
       "      <td>2</td>\n",
       "      <td>1</td>\n",
       "      <td>1</td>\n",
       "      <td>0</td>\n",
       "      <td>0</td>\n",
       "      <td>0</td>\n",
       "      <td>0</td>\n",
       "      <td>0</td>\n",
       "      <td>0</td>\n",
       "      <td>0</td>\n",
       "      <td>0</td>\n",
       "      <td>0</td>\n",
       "      <td>888</td>\n",
       "      <td>0</td>\n",
       "      <td>0</td>\n",
       "      <td>1</td>\n",
       "      <td>0</td>\n",
       "      <td>0</td>\n",
       "      <td>0</td>\n",
       "      <td>6</td>\n",
       "      <td>1</td>\n",
       "      <td>1</td>\n",
       "      <td>888</td>\n",
       "      <td>2</td>\n",
       "      <td>1</td>\n",
       "      <td>1</td>\n",
       "      <td>1</td>\n",
       "      <td>888</td>\n",
       "      <td>888</td>\n",
       "      <td>1</td>\n",
       "      <td>888</td>\n",
       "      <td>1</td>\n",
       "      <td>975065</td>\n",
       "      <td>1</td>\n",
       "    </tr>\n",
       "    <tr>\n",
       "      <th>1</th>\n",
       "      <td>2</td>\n",
       "      <td>2</td>\n",
       "      <td>1</td>\n",
       "      <td>20181122</td>\n",
       "      <td>5</td>\n",
       "      <td>1</td>\n",
       "      <td>5</td>\n",
       "      <td>5</td>\n",
       "      <td>1</td>\n",
       "      <td>3</td>\n",
       "      <td>3</td>\n",
       "      <td>4.0</td>\n",
       "      <td>3</td>\n",
       "      <td>2</td>\n",
       "      <td>5</td>\n",
       "      <td>4</td>\n",
       "      <td>4</td>\n",
       "      <td>4</td>\n",
       "      <td>4</td>\n",
       "      <td>5</td>\n",
       "      <td>5</td>\n",
       "      <td>5</td>\n",
       "      <td>5</td>\n",
       "      <td>5</td>\n",
       "      <td>5</td>\n",
       "      <td>1</td>\n",
       "      <td>0</td>\n",
       "      <td>0</td>\n",
       "      <td>1</td>\n",
       "      <td>0</td>\n",
       "      <td>0</td>\n",
       "      <td>0</td>\n",
       "      <td>0</td>\n",
       "      <td>888</td>\n",
       "      <td>4</td>\n",
       "      <td>0</td>\n",
       "      <td>0</td>\n",
       "      <td>0</td>\n",
       "      <td>1</td>\n",
       "      <td>0</td>\n",
       "      <td>0</td>\n",
       "      <td>0</td>\n",
       "      <td>1</td>\n",
       "      <td>1</td>\n",
       "      <td>1</td>\n",
       "      <td>0</td>\n",
       "      <td>0</td>\n",
       "      <td>1</td>\n",
       "      <td>1</td>\n",
       "      <td>0</td>\n",
       "      <td>1</td>\n",
       "      <td>1</td>\n",
       "      <td>0</td>\n",
       "      <td>1</td>\n",
       "      <td>1</td>\n",
       "      <td>0</td>\n",
       "      <td>0</td>\n",
       "      <td>888</td>\n",
       "      <td>10</td>\n",
       "      <td>0</td>\n",
       "      <td>0</td>\n",
       "      <td>0</td>\n",
       "      <td>0</td>\n",
       "      <td>0</td>\n",
       "      <td>0</td>\n",
       "      <td>0</td>\n",
       "      <td>0</td>\n",
       "      <td>1</td>\n",
       "      <td>清心福全</td>\n",
       "      <td>1</td>\n",
       "      <td>1</td>\n",
       "      <td>1</td>\n",
       "      <td>0</td>\n",
       "      <td>0</td>\n",
       "      <td>1</td>\n",
       "      <td>0</td>\n",
       "      <td>0</td>\n",
       "      <td>0</td>\n",
       "      <td>0</td>\n",
       "      <td>0</td>\n",
       "      <td>0</td>\n",
       "      <td>888</td>\n",
       "      <td>1</td>\n",
       "      <td>0</td>\n",
       "      <td>0</td>\n",
       "      <td>0</td>\n",
       "      <td>0</td>\n",
       "      <td>0</td>\n",
       "      <td>7</td>\n",
       "      <td>1</td>\n",
       "      <td>3</td>\n",
       "      <td>888</td>\n",
       "      <td>5</td>\n",
       "      <td>2</td>\n",
       "      <td>1</td>\n",
       "      <td>6</td>\n",
       "      <td>888</td>\n",
       "      <td>888</td>\n",
       "      <td>3</td>\n",
       "      <td>888</td>\n",
       "      <td>1</td>\n",
       "      <td>933618</td>\n",
       "      <td>1</td>\n",
       "    </tr>\n",
       "  </tbody>\n",
       "</table>\n",
       "</div>"
      ],
      "text/plain": [
       "   流水號 訪員編號  受訪地點      受訪時間  同遊人數(含受訪者)  受訪者性別  1_1  1_2  1_3  1_4  1_5  1_6  \\\n",
       "0    1    2     1  20181122           1      0    5    5    1    4    4  5.0   \n",
       "1    2    2     1  20181122           5      1    5    5    1    3    3  4.0   \n",
       "\n",
       "   1_7  1_8  1_9  1_10  1_11  1_12  1_13  1_14  2_1_a  2_1_b  2_1_c  2_1_d  \\\n",
       "0    4    1    4     4     5     3     5     4      5      4      4      5   \n",
       "1    3    2    5     4     4     4     4     5      5      5      5      5   \n",
       "\n",
       "   2_1_e  2_2_1  2_2_2  2_2_3  2_2_4  2_2_5  2_2_6  2_2_7  2_2_8 2_2_8_1  2_3  \\\n",
       "0      4      1      1      0      0      0      0      0      0     888    2   \n",
       "1      5      1      0      0      1      0      0      0      0     888    4   \n",
       "\n",
       "   2_4_1  2_4_2  2_4_3  2_4_4  2_4_5  2_4_6  2_4_7  2_4_8  2_4_9  2_4_10  \\\n",
       "0      0      0      1      1      1      0      1      1      0       0   \n",
       "1      0      0      0      1      0      0      0      1      1       1   \n",
       "\n",
       "   2_4_11  2_4_12  2_4_13  2_4_14  2_4_15  2_4_16  2_4_17  2_4_18  2_4_19  \\\n",
       "0       0       0       0       0       0       1       1       1       0   \n",
       "1       0       0       1       1       0       1       1       0       1   \n",
       "\n",
       "   2_4_20  2_4_21  2_4_22 2_4_22_1 2_5  2_6_1  2_6_2  2_6_3  2_6_4  2_6_5  \\\n",
       "0       0       0       0      888   3      0      0      1      0      0   \n",
       "1       1       0       0      888  10      0      0      0      0      0   \n",
       "\n",
       "   2_6_6  2_6_7  2_6_8  2_6_9 2_6_9_1  2_7  2_8  2_9_1  2_9_2  2_9_3  2_9_4  \\\n",
       "0      0      0      0      0     888    2    1      1      0      0      0   \n",
       "1      0      0      0      1    清心福全    1    1      1      0      0      1   \n",
       "\n",
       "   2_9_5  2_9_6  2_9_7  2_9_8  2_9_9  2_9_10 2_9_10_1  3_1_1  3_1_2  3_1_3  \\\n",
       "0      0      0      0      0      0       0      888      0      0      1   \n",
       "1      0      0      0      0      0       0      888      1      0      0   \n",
       "\n",
       "   3_1_4  3_1_5  3_1_6  3_2  3_3  3_4 3_4_1  3_5  3_6  3_7_1  3_7_2 3_7_2_9  \\\n",
       "0      0      0      0    6    1    1   888    2    1      1      1     888   \n",
       "1      0      0      0    7    1    3   888    5    2      1      6     888   \n",
       "\n",
       "   3_7_2_10  3_8 3_8_1  3_9_1   3_9_2  3_10  \n",
       "0       888    1   888      1  975065     1  \n",
       "1       888    3   888      1  933618     1  "
      ]
     },
     "execution_count": 2,
     "metadata": {},
     "output_type": "execute_result"
    }
   ],
   "source": [
    "import os\n",
    "import pandas as pd\n",
    "import numpy as np\n",
    "import datetime\n",
    "import glob\n",
    "from datetime import date\n",
    "import warnings\n",
    "warnings.filterwarnings(\"ignore\")  \n",
    "pd.set_option('display.max_columns', None)\n",
    "df=pd.read_excel(r'often/問卷譯碼本.xlsx',sheet_name='公版')\n",
    "print(df.shape)\n",
    "df.head(2)"
   ]
  },
  {
   "cell_type": "code",
   "execution_count": 3,
   "id": "9712f8b1",
   "metadata": {},
   "outputs": [
    {
     "ename": "KeyboardInterrupt",
     "evalue": "",
     "output_type": "error",
     "traceback": [
      "\u001b[1;31m---------------------------------------------------------------------------\u001b[0m",
      "\u001b[1;31mKeyboardInterrupt\u001b[0m                         Traceback (most recent call last)",
      "\u001b[1;32md:\\py\\大學專題7.ipynb Cell 5\u001b[0m in \u001b[0;36m<cell line: 13>\u001b[1;34m()\u001b[0m\n\u001b[0;32m     <a href='vscode-notebook-cell:/d%3A/py/%E5%A4%A7%E5%AD%B8%E5%B0%88%E9%A1%8C7.ipynb#W4sZmlsZQ%3D%3D?line=15'>16</a>\u001b[0m     df2[df2\u001b[39m.\u001b[39mcolumns[i]]\u001b[39m=\u001b[39mdf2[df2\u001b[39m.\u001b[39mcolumns[i]]\u001b[39m.\u001b[39mstr\u001b[39m.\u001b[39mreplace(\u001b[39m'\u001b[39m\u001b[39m888\u001b[39m\u001b[39m'\u001b[39m,\u001b[39m'\u001b[39m\u001b[39m'\u001b[39m)\n\u001b[0;32m     <a href='vscode-notebook-cell:/d%3A/py/%E5%A4%A7%E5%AD%B8%E5%B0%88%E9%A1%8C7.ipynb#W4sZmlsZQ%3D%3D?line=16'>17</a>\u001b[0m     df2[df2\u001b[39m.\u001b[39mcolumns[i]]\u001b[39m=\u001b[39mdf2[df2\u001b[39m.\u001b[39mcolumns[i]]\u001b[39m.\u001b[39mstr\u001b[39m.\u001b[39mreplace(\u001b[39m'\u001b[39m\u001b[39m777\u001b[39m\u001b[39m'\u001b[39m,\u001b[39m'\u001b[39m\u001b[39m'\u001b[39m)\n\u001b[1;32m---> <a href='vscode-notebook-cell:/d%3A/py/%E5%A4%A7%E5%AD%B8%E5%B0%88%E9%A1%8C7.ipynb#W4sZmlsZQ%3D%3D?line=17'>18</a>\u001b[0m     df2[df2\u001b[39m.\u001b[39mcolumns[i]]\u001b[39m=\u001b[39mdf2[df2\u001b[39m.\u001b[39;49mcolumns[i]]\u001b[39m.\u001b[39;49mstr\u001b[39m.\u001b[39;49mreplace(\u001b[39m'\u001b[39;49m\u001b[39m.0\u001b[39;49m\u001b[39m'\u001b[39;49m,\u001b[39m'\u001b[39;49m\u001b[39m'\u001b[39;49m)\n\u001b[0;32m     <a href='vscode-notebook-cell:/d%3A/py/%E5%A4%A7%E5%AD%B8%E5%B0%88%E9%A1%8C7.ipynb#W4sZmlsZQ%3D%3D?line=18'>19</a>\u001b[0m     df2[df2\u001b[39m.\u001b[39mcolumns[i]]\u001b[39m=\u001b[39mdf2[df2\u001b[39m.\u001b[39mcolumns[i]]\u001b[39m.\u001b[39mstr\u001b[39m.\u001b[39mreplace(\u001b[39m'\u001b[39m\u001b[39mnan\u001b[39m\u001b[39m'\u001b[39m,\u001b[39m'\u001b[39m\u001b[39m'\u001b[39m)\n\u001b[0;32m     <a href='vscode-notebook-cell:/d%3A/py/%E5%A4%A7%E5%AD%B8%E5%B0%88%E9%A1%8C7.ipynb#W4sZmlsZQ%3D%3D?line=19'>20</a>\u001b[0m df2\u001b[39m=\u001b[39mdf2\u001b[39m.\u001b[39mreplace(\u001b[39m'\u001b[39m\u001b[39m'\u001b[39m,np\u001b[39m.\u001b[39mnan)\n",
      "File \u001b[1;32mc:\\Users\\User\\AppData\\Local\\Programs\\Python\\Python310\\lib\\site-packages\\pandas\\core\\strings\\accessor.py:125\u001b[0m, in \u001b[0;36mforbid_nonstring_types.<locals>._forbid_nonstring_types.<locals>.wrapper\u001b[1;34m(self, *args, **kwargs)\u001b[0m\n\u001b[0;32m    120\u001b[0m     msg \u001b[39m=\u001b[39m (\n\u001b[0;32m    121\u001b[0m         \u001b[39mf\u001b[39m\u001b[39m\"\u001b[39m\u001b[39mCannot use .str.\u001b[39m\u001b[39m{\u001b[39;00mfunc_name\u001b[39m}\u001b[39;00m\u001b[39m with values of \u001b[39m\u001b[39m\"\u001b[39m\n\u001b[0;32m    122\u001b[0m         \u001b[39mf\u001b[39m\u001b[39m\"\u001b[39m\u001b[39minferred dtype \u001b[39m\u001b[39m'\u001b[39m\u001b[39m{\u001b[39;00m\u001b[39mself\u001b[39m\u001b[39m.\u001b[39m_inferred_dtype\u001b[39m}\u001b[39;00m\u001b[39m'\u001b[39m\u001b[39m.\u001b[39m\u001b[39m\"\u001b[39m\n\u001b[0;32m    123\u001b[0m     )\n\u001b[0;32m    124\u001b[0m     \u001b[39mraise\u001b[39;00m \u001b[39mTypeError\u001b[39;00m(msg)\n\u001b[1;32m--> 125\u001b[0m \u001b[39mreturn\u001b[39;00m func(\u001b[39mself\u001b[39m, \u001b[39m*\u001b[39margs, \u001b[39m*\u001b[39m\u001b[39m*\u001b[39mkwargs)\n",
      "File \u001b[1;32mc:\\Users\\User\\AppData\\Local\\Programs\\Python\\Python310\\lib\\site-packages\\pandas\\core\\strings\\accessor.py:1431\u001b[0m, in \u001b[0;36mStringMethods.replace\u001b[1;34m(self, pat, repl, n, case, flags, regex)\u001b[0m\n\u001b[0;32m   1426\u001b[0m         \u001b[39mif\u001b[39;00m \u001b[39mlen\u001b[39m(pat) \u001b[39m==\u001b[39m \u001b[39m1\u001b[39m:\n\u001b[0;32m   1427\u001b[0m             msg \u001b[39m+\u001b[39m\u001b[39m=\u001b[39m (\n\u001b[0;32m   1428\u001b[0m                 \u001b[39m\"\u001b[39m\u001b[39m In addition, single character regular expressions will \u001b[39m\u001b[39m\"\u001b[39m\n\u001b[0;32m   1429\u001b[0m                 \u001b[39m\"\u001b[39m\u001b[39m*not* be treated as literal strings when regex=True.\u001b[39m\u001b[39m\"\u001b[39m\n\u001b[0;32m   1430\u001b[0m             )\n\u001b[1;32m-> 1431\u001b[0m         warnings\u001b[39m.\u001b[39mwarn(msg, \u001b[39mFutureWarning\u001b[39;00m, stacklevel\u001b[39m=\u001b[39mfind_stack_level())\n\u001b[0;32m   1433\u001b[0m \u001b[39m# Check whether repl is valid (GH 13438, GH 15055)\u001b[39;00m\n\u001b[0;32m   1434\u001b[0m \u001b[39mif\u001b[39;00m \u001b[39mnot\u001b[39;00m (\u001b[39misinstance\u001b[39m(repl, \u001b[39mstr\u001b[39m) \u001b[39mor\u001b[39;00m callable(repl)):\n",
      "File \u001b[1;32mc:\\Users\\User\\AppData\\Local\\Programs\\Python\\Python310\\lib\\site-packages\\pandas\\util\\_exceptions.py:32\u001b[0m, in \u001b[0;36mfind_stack_level\u001b[1;34m()\u001b[0m\n\u001b[0;32m     27\u001b[0m \u001b[39mdef\u001b[39;00m \u001b[39mfind_stack_level\u001b[39m() \u001b[39m-\u001b[39m\u001b[39m>\u001b[39m \u001b[39mint\u001b[39m:\n\u001b[0;32m     28\u001b[0m     \u001b[39m\"\"\"\u001b[39;00m\n\u001b[0;32m     29\u001b[0m \u001b[39m    Find the first place in the stack that is not inside pandas\u001b[39;00m\n\u001b[0;32m     30\u001b[0m \u001b[39m    (tests notwithstanding).\u001b[39;00m\n\u001b[0;32m     31\u001b[0m \u001b[39m    \"\"\"\u001b[39;00m\n\u001b[1;32m---> 32\u001b[0m     stack \u001b[39m=\u001b[39m inspect\u001b[39m.\u001b[39;49mstack()\n\u001b[0;32m     34\u001b[0m     \u001b[39mimport\u001b[39;00m \u001b[39mpandas\u001b[39;00m \u001b[39mas\u001b[39;00m \u001b[39mpd\u001b[39;00m\n\u001b[0;32m     36\u001b[0m     pkg_dir \u001b[39m=\u001b[39m os\u001b[39m.\u001b[39mpath\u001b[39m.\u001b[39mdirname(pd\u001b[39m.\u001b[39m\u001b[39m__file__\u001b[39m)\n",
      "File \u001b[1;32mc:\\Users\\User\\AppData\\Local\\Programs\\Python\\Python310\\lib\\inspect.py:1678\u001b[0m, in \u001b[0;36mstack\u001b[1;34m(context)\u001b[0m\n\u001b[0;32m   1676\u001b[0m \u001b[39mdef\u001b[39;00m \u001b[39mstack\u001b[39m(context\u001b[39m=\u001b[39m\u001b[39m1\u001b[39m):\n\u001b[0;32m   1677\u001b[0m     \u001b[39m\"\"\"Return a list of records for the stack above the caller's frame.\"\"\"\u001b[39;00m\n\u001b[1;32m-> 1678\u001b[0m     \u001b[39mreturn\u001b[39;00m getouterframes(sys\u001b[39m.\u001b[39;49m_getframe(\u001b[39m1\u001b[39;49m), context)\n",
      "File \u001b[1;32mc:\\Users\\User\\AppData\\Local\\Programs\\Python\\Python310\\lib\\inspect.py:1655\u001b[0m, in \u001b[0;36mgetouterframes\u001b[1;34m(frame, context)\u001b[0m\n\u001b[0;32m   1653\u001b[0m framelist \u001b[39m=\u001b[39m []\n\u001b[0;32m   1654\u001b[0m \u001b[39mwhile\u001b[39;00m frame:\n\u001b[1;32m-> 1655\u001b[0m     frameinfo \u001b[39m=\u001b[39m (frame,) \u001b[39m+\u001b[39m getframeinfo(frame, context)\n\u001b[0;32m   1656\u001b[0m     framelist\u001b[39m.\u001b[39mappend(FrameInfo(\u001b[39m*\u001b[39mframeinfo))\n\u001b[0;32m   1657\u001b[0m     frame \u001b[39m=\u001b[39m frame\u001b[39m.\u001b[39mf_back\n",
      "File \u001b[1;32mc:\\Users\\User\\AppData\\Local\\Programs\\Python\\Python310\\lib\\inspect.py:1629\u001b[0m, in \u001b[0;36mgetframeinfo\u001b[1;34m(frame, context)\u001b[0m\n\u001b[0;32m   1627\u001b[0m start \u001b[39m=\u001b[39m lineno \u001b[39m-\u001b[39m \u001b[39m1\u001b[39m \u001b[39m-\u001b[39m context\u001b[39m/\u001b[39m\u001b[39m/\u001b[39m\u001b[39m2\u001b[39m\n\u001b[0;32m   1628\u001b[0m \u001b[39mtry\u001b[39;00m:\n\u001b[1;32m-> 1629\u001b[0m     lines, lnum \u001b[39m=\u001b[39m findsource(frame)\n\u001b[0;32m   1630\u001b[0m \u001b[39mexcept\u001b[39;00m \u001b[39mOSError\u001b[39;00m:\n\u001b[0;32m   1631\u001b[0m     lines \u001b[39m=\u001b[39m index \u001b[39m=\u001b[39m \u001b[39mNone\u001b[39;00m\n",
      "File \u001b[1;32mc:\\Users\\User\\AppData\\Local\\Programs\\Python\\Python310\\lib\\inspect.py:940\u001b[0m, in \u001b[0;36mfindsource\u001b[1;34m(object)\u001b[0m\n\u001b[0;32m    932\u001b[0m \u001b[39mdef\u001b[39;00m \u001b[39mfindsource\u001b[39m(\u001b[39mobject\u001b[39m):\n\u001b[0;32m    933\u001b[0m     \u001b[39m\"\"\"Return the entire source file and starting line number for an object.\u001b[39;00m\n\u001b[0;32m    934\u001b[0m \n\u001b[0;32m    935\u001b[0m \u001b[39m    The argument may be a module, class, method, function, traceback, frame,\u001b[39;00m\n\u001b[0;32m    936\u001b[0m \u001b[39m    or code object.  The source code is returned as a list of all the lines\u001b[39;00m\n\u001b[0;32m    937\u001b[0m \u001b[39m    in the file and the line number indexes a line in that list.  An OSError\u001b[39;00m\n\u001b[0;32m    938\u001b[0m \u001b[39m    is raised if the source code cannot be retrieved.\"\"\"\u001b[39;00m\n\u001b[1;32m--> 940\u001b[0m     file \u001b[39m=\u001b[39m getsourcefile(\u001b[39mobject\u001b[39;49m)\n\u001b[0;32m    941\u001b[0m     \u001b[39mif\u001b[39;00m file:\n\u001b[0;32m    942\u001b[0m         \u001b[39m# Invalidate cache if needed.\u001b[39;00m\n\u001b[0;32m    943\u001b[0m         linecache\u001b[39m.\u001b[39mcheckcache(file)\n",
      "File \u001b[1;32mc:\\Users\\User\\AppData\\Local\\Programs\\Python\\Python310\\lib\\inspect.py:826\u001b[0m, in \u001b[0;36mgetsourcefile\u001b[1;34m(object)\u001b[0m\n\u001b[0;32m    823\u001b[0m \u001b[39melif\u001b[39;00m \u001b[39many\u001b[39m(filename\u001b[39m.\u001b[39mendswith(s) \u001b[39mfor\u001b[39;00m s \u001b[39min\u001b[39;00m\n\u001b[0;32m    824\u001b[0m              importlib\u001b[39m.\u001b[39mmachinery\u001b[39m.\u001b[39mEXTENSION_SUFFIXES):\n\u001b[0;32m    825\u001b[0m     \u001b[39mreturn\u001b[39;00m \u001b[39mNone\u001b[39;00m\n\u001b[1;32m--> 826\u001b[0m \u001b[39mif\u001b[39;00m os\u001b[39m.\u001b[39;49mpath\u001b[39m.\u001b[39;49mexists(filename):\n\u001b[0;32m    827\u001b[0m     \u001b[39mreturn\u001b[39;00m filename\n\u001b[0;32m    828\u001b[0m \u001b[39m# only return a non-existent filename if the module has a PEP 302 loader\u001b[39;00m\n",
      "File \u001b[1;32mc:\\Users\\User\\AppData\\Local\\Programs\\Python\\Python310\\lib\\genericpath.py:19\u001b[0m, in \u001b[0;36mexists\u001b[1;34m(path)\u001b[0m\n\u001b[0;32m     17\u001b[0m \u001b[39m\"\"\"Test whether a path exists.  Returns False for broken symbolic links\"\"\"\u001b[39;00m\n\u001b[0;32m     18\u001b[0m \u001b[39mtry\u001b[39;00m:\n\u001b[1;32m---> 19\u001b[0m     os\u001b[39m.\u001b[39;49mstat(path)\n\u001b[0;32m     20\u001b[0m \u001b[39mexcept\u001b[39;00m (\u001b[39mOSError\u001b[39;00m, \u001b[39mValueError\u001b[39;00m):\n\u001b[0;32m     21\u001b[0m     \u001b[39mreturn\u001b[39;00m \u001b[39mFalse\u001b[39;00m\n",
      "\u001b[1;31mKeyboardInterrupt\u001b[0m: "
     ]
    }
   ],
   "source": [
    "# 註：999-表該題漏答\n",
    "# 註：888-表該題不適用\n",
    "# 註：777-表該題無效\n",
    "# 先來處以缺失值，以我的理解，999 888 777全都為視為缺失值，不需要特別分類\n",
    "# 而由於只有500筆問卷資料，所以我傾向於幫缺失值補值，而非刪除有缺失值的列\n",
    "# 其中欄位1_1到2_1全為受訪者填寫，且全為詢問滿意度的問題，6為最滿意，1為最不滿意\n",
    "# 大部分的問卷滿意度設為1到5，但是若設1-5，很多人會傾向於全部填3，也就是對方懶的填或者沒意見，那一般來說參考價值便會降低\n",
    "# 當初設為1到6為了避免都填3(中立、沒意見)的資料\n",
    "\n",
    "df2=df.copy()\n",
    "df2=df2.astype(str)\n",
    "\n",
    "for i in range(df2.shape[1]):\n",
    "    df2[df2.columns[i]]=df2[df2.columns[i]].str.strip()\n",
    "    df2[df2.columns[i]]=df2[df2.columns[i]].str.replace('999','')\n",
    "    df2[df2.columns[i]]=df2[df2.columns[i]].str.replace('888','')\n",
    "    df2[df2.columns[i]]=df2[df2.columns[i]].str.replace('777','')\n",
    "    df2[df2.columns[i]]=df2[df2.columns[i]].str.replace('.0','')\n",
    "    df2[df2.columns[i]]=df2[df2.columns[i]].str.replace('nan','')\n",
    "df2=df2.replace('',np.nan)\n",
    "df2['1_6'].value_counts()"
   ]
  },
  {
   "cell_type": "code",
   "execution_count": null,
   "id": "ce33bcce",
   "metadata": {},
   "outputs": [
    {
     "data": {
      "text/plain": [
       "4     58\n",
       "3     55\n",
       "7     34\n",
       "21    32\n",
       "18    30\n",
       "8     29\n",
       "17    28\n",
       "22    28\n",
       "16    26\n",
       "11    21\n",
       "1     16\n",
       "9     16\n",
       "6     12\n",
       "13     8\n",
       "2      6\n",
       "14     6\n",
       "19     4\n",
       "5      4\n",
       "12     3\n",
       "15     3\n",
       "no     2\n",
       "Name: 2_5, dtype: int64"
      ]
     },
     "execution_count": 5,
     "metadata": {},
     "output_type": "execute_result"
    }
   ],
   "source": [
    "# 欄位2_5無法轉換為數字格式，發現包含no，以題目敘述，填寫no表示以上店家都不推薦，因此轉換為空值\n",
    "# 4. 請勾選您在逢甲商圈曾經嘗試過的飲料店? (可複選) \n",
    "# 1.□ 金享 2.□ 緣棧 3.□ 大苑子 4.□ 五十嵐 5.□ 甲文青\n",
    "# 6.□ 幸福堂 7.□ 珍煮丹 8.□ 茶湯會 9.□ 斜角巷 10.□ 喫茶趣\n",
    "# 11.□ 蔡大明 12.□ 鮮果匠 13.□ 鮮茶道 14.□ Double A 15.□ 良辰吉時\n",
    "# 16.□ 清心福全 17.□ 圓石禪飲 18.□ 一芳水果茶 19.□ 手作功夫茶\n",
    "# 20.□ 可不可熟成紅茶 21.□ 超好喝木瓜牛奶 22. □ 其他____________\n",
    "# 5. 呈上題，您最推薦的飲料店家是(請填上述 1 個編號) __________\n",
    "\n",
    "df2['2_5'].value_counts()"
   ]
  },
  {
   "cell_type": "code",
   "execution_count": null,
   "id": "5e3f4cbe",
   "metadata": {},
   "outputs": [],
   "source": [
    "df2['2_5']=df2['2_5'].replace('no',np.nan)"
   ]
  },
  {
   "cell_type": "code",
   "execution_count": null,
   "id": "d7d716d4",
   "metadata": {},
   "outputs": [
    {
     "data": {
      "text/plain": [
       "台北      22\n",
       "台南       9\n",
       "高雄       9\n",
       "新北       8\n",
       "桃園       7\n",
       "新竹       5\n",
       "馬來西亞     3\n",
       "香港       3\n",
       "屏東       2\n",
       "澳門       1\n",
       "宜蘭       1\n",
       "日本       1\n",
       "中壢       1\n",
       "新加坡      1\n",
       "Name: 3_4_1, dtype: int64"
      ]
     },
     "execution_count": 7,
     "metadata": {},
     "output_type": "execute_result"
    }
   ],
   "source": [
    "# 部分欄位為「其他」的填空題，不適合放在一起統計，所以先刪除\n",
    "# 如欄位3_4_1為這題4其他的填寫處\n",
    "# 您目前的居住地(非戶籍地)是哪個縣市？\n",
    "# 1.□ 台中市 2.□ 彰化縣 3.□ 苗栗、南投、雲林、嘉義地區 4.□ 其他\n",
    "df2['3_4_1'].value_counts()"
   ]
  },
  {
   "cell_type": "code",
   "execution_count": null,
   "id": "06ad7d45",
   "metadata": {},
   "outputs": [
    {
     "data": {
      "text/plain": [
       "Index(['2_2_8_1', '2_4_22_1', '2_6_9_1', '2_9_10_1', '3_4_1', '3_7_2',\n",
       "       '3_7_2_9', '3_7_2_10', '3_8_1', '3_9_2'],\n",
       "      dtype='object')"
      ]
     },
     "execution_count": 8,
     "metadata": {},
     "output_type": "execute_result"
    }
   ],
   "source": [
    "# 找出空值多於一半的欄位並刪除\n",
    "df2.columns[df2.isna().sum() > len(df2) / 2]"
   ]
  },
  {
   "cell_type": "code",
   "execution_count": null,
   "id": "e9236854",
   "metadata": {},
   "outputs": [
    {
     "data": {
      "text/plain": [
       "False"
      ]
     },
     "execution_count": 9,
     "metadata": {},
     "output_type": "execute_result"
    }
   ],
   "source": [
    "df3=df2.drop(columns=['2_2_8_1', '2_4_22_1', '2_6_9_1', '2_9_10_1', '3_4_1', '3_7_2',\n",
    "       '3_7_2_9', '3_7_2_10', '3_8_1', '3_9_2'])\n",
    "\n",
    "# 由於欄位都是類別型資料，所以缺失值都補眾數\n",
    "# df3 = df3.replace('',(df.mode().iloc[0]))\n",
    "df3 = df3.fillna(df.mode().iloc[0])\n",
    "\n",
    "for i in range(df3.shape[1]):\n",
    "    df3[df3.columns[i]]=df3[df3.columns[i]].str.replace('.0','')\n",
    "# 確認是否還有缺失值 (false無缺失值)    \n",
    "df3 = df3.fillna(df.mode().iloc[0])\n",
    "df3.isna().any().any()\n",
    "# df3['1_6'].value_counts()"
   ]
  },
  {
   "cell_type": "markdown",
   "id": "76e35abd",
   "metadata": {},
   "source": [
    " <a name=\"特徵工程&找尋對店家有用的資訊\"></a>\n",
    "## 特徵工程&找尋對店家有用的資訊"
   ]
  },
  {
   "cell_type": "code",
   "execution_count": null,
   "id": "4b42a711",
   "metadata": {},
   "outputs": [
    {
     "data": {
      "text/plain": [
       "3      232\n",
       "2      148\n",
       "4       48\n",
       "1       29\n",
       "6       18\n",
       "5       15\n",
       "3.0     10\n",
       "Name: 2_3, dtype: int64"
      ]
     },
     "execution_count": 10,
     "metadata": {},
     "output_type": "execute_result"
    }
   ],
   "source": [
    "# 假設我想在在逢甲商圈開設飲料店，並且想從資料中獲取有用資訊，那我會想先分析以下的問題，看要走加盟店或是特色飲料店\n",
    "# 3. 您在逢甲商圈偏好在連鎖飲料店或逢甲特色飲料店消費?\n",
    "# 1.□ 只願意購買特色飲料店 2.□ 偏好特色飲料店 3.□ 都願意\n",
    "# 4.□ 偏好連鎖飲料店 5.□ 只願意購買連鎖飲料店 6.□ 沒有喝飲料的習慣\n",
    "df3['2_3'].value_counts()"
   ]
  },
  {
   "cell_type": "code",
   "execution_count": null,
   "id": "0ae48363",
   "metadata": {},
   "outputs": [
    {
     "data": {
      "text/plain": [
       "3    242\n",
       "2    148\n",
       "4     48\n",
       "1     29\n",
       "6     18\n",
       "5     15\n",
       "Name: 2_3, dtype: int64"
      ]
     },
     "execution_count": 11,
     "metadata": {},
     "output_type": "execute_result"
    }
   ],
   "source": [
    "# 發現3.0應該要跟3合併，因此把.0排除掉\n",
    "df3=df3.astype(str)\n",
    "for i in range(df3.shape[1]):\n",
    "    # df3[df3.columns[i]].str.replace('.0','')\n",
    "    df3[df3.columns[i]] = df3[df3.columns[i]].str.replace('.0','')\n",
    "df3['2_3'].value_counts()"
   ]
  },
  {
   "cell_type": "code",
   "execution_count": null,
   "metadata": {},
   "outputs": [],
   "source": [
    "# 接著來看偏好特色飲料店的人，他們有甚麼特徵，與非偏好特色飲料店的人有什麼區別\n",
    "df4=df3[(df3['2_3'] == '1') | (df3['2_3'] == '2')]\n",
    "df5=df3[~(df3['2_3'] == '1') & ~(df3['2_3'] == '2')]"
   ]
  },
  {
   "cell_type": "markdown",
   "id": "b2b9838c",
   "metadata": {},
   "source": [
    " <a name=\"卡方檢定&特色飲料客群的特徵\"></a>\n",
    "## 卡方檢定&特色飲料客群的特徵"
   ]
  },
  {
   "cell_type": "code",
   "execution_count": null,
   "id": "fc6f6697",
   "metadata": {},
   "outputs": [
    {
     "name": "stdout",
     "output_type": "stream",
     "text": [
      "  index  2_2_1   percent\n",
      "0     1     90  0.508475\n",
      "1     0     87  0.491525\n",
      "  index  2_2_1   percent\n",
      "0     1    210  0.650155\n",
      "1     0    113  0.349845\n",
      "Chi-Square statistic: 28.50547545261962\n",
      "P-value: 9.3433884267113e-08\n"
     ]
    }
   ],
   "source": [
    "# 2. 您這次在逢甲商圈會購買下列哪一類型的飲料? (可複選)\n",
    "#  1.□ 茶類 2.□ 鮮奶類(ex:奶茶、紅茶拿鐵) \n",
    "#  3.□ 鮮果類 4.□ 調酒類 5.□ 氣泡飲 \n",
    "#  6.□ 冰沙 7.□ 咖啡 8.□ 其他____________\n",
    "\n",
    "#偏好特色飲料店的人較不愛購買茶類(50.85% VS 65.02%)，且有顯著差距(P < 0.05)\n",
    "from scipy.stats import chisquare\n",
    "def chi(df, df2, column_name, percent):\n",
    "    df['percent'] = df[column_name] / df[column_name].sum()\n",
    "    print(df)\n",
    "\n",
    "    df2['percent'] = df2[column_name] / df2[column_name].sum()\n",
    "    print(df2)\n",
    "\n",
    "    observed_values_normalized = df[percent].values  * np.sum(df2[column_name].values)\n",
    "    # observed_values_normalized = df[percent].values  * df2[column_name].shape[0]\n",
    "    expected_values_normalized = df2[column_name].values \n",
    "\n",
    "    result = chisquare(f_obs=observed_values_normalized, f_exp=expected_values_normalized)\n",
    "    # result = chisquare(f_obs=df['2_2_1'], f_exp=df2['2_2_1'])\n",
    "    print(\"Chi-Square statistic:\", result.statistic)\n",
    "    print(\"P-value:\", result.pvalue)\n",
    "\n",
    "tea = df4['2_2_1'].value_counts().reset_index()\n",
    "tea2 = df5['2_2_1'].value_counts().reset_index()\n",
    "\n",
    "chi(tea, tea2, '2_2_1', 'percent')"
   ]
  },
  {
   "cell_type": "code",
   "execution_count": null,
   "id": "4a092043",
   "metadata": {},
   "outputs": [
    {
     "name": "stdout",
     "output_type": "stream",
     "text": [
      "  index  2_2_2   percent\n",
      "0     1    117  0.661017\n",
      "1     0     60  0.338983\n",
      "  index  2_2_2   percent\n",
      "0     1    200  0.619195\n",
      "1     0    123  0.380805\n",
      "Chi-Square statistic: 2.3959626006917967\n",
      "P-value: 0.12164884889301604\n"
     ]
    }
   ],
   "source": [
    "#偏好特色飲料店的人較愛購買鮮奶類，但無顯著差距\n",
    "milk = df4['2_2_2'].value_counts().reset_index()\n",
    "milk2 = df5['2_2_2'].value_counts().reset_index()\n",
    "chi(milk, milk2, '2_2_2', 'percent')"
   ]
  },
  {
   "cell_type": "code",
   "execution_count": null,
   "id": "ce36ff6f",
   "metadata": {},
   "outputs": [
    {
     "name": "stdout",
     "output_type": "stream",
     "text": [
      "  index  2_2_3   percent\n",
      "0     0    127  0.717514\n",
      "1     1     50  0.282486\n",
      "  index  2_2_3   percent\n",
      "0     0    203  0.628483\n",
      "1     1    120  0.371517\n",
      "Chi-Square statistic: 10.965142255026262\n",
      "P-value: 0.00092841819416956\n"
     ]
    }
   ],
   "source": [
    "#偏好特色飲料店的人較不愛購買鮮果類，且有顯著差距\n",
    "juice = df4['2_2_3'].value_counts().reset_index()\n",
    "juice2 = df5['2_2_3'].value_counts().reset_index()\n",
    "chi(juice, juice2, '2_2_3', 'percent')"
   ]
  },
  {
   "cell_type": "code",
   "execution_count": null,
   "id": "fa6e793c",
   "metadata": {},
   "outputs": [
    {
     "name": "stdout",
     "output_type": "stream",
     "text": [
      "  index  2_2_4   percent\n",
      "0     0    152  0.858757\n",
      "1     1     25  0.141243\n",
      "  index  2_2_4   percent\n",
      "0     0    299  0.925697\n",
      "1     1     24  0.074303\n",
      "Chi-Square statistic: 21.042168016867635\n",
      "P-value: 4.49285577760626e-06\n"
     ]
    }
   ],
   "source": [
    "#偏好特色飲料店的人較愛購買調酒類，且有顯著差距\n",
    "alcohol = df4['2_2_4'].value_counts().reset_index()\n",
    "alcohol2 = df5['2_2_4'].value_counts().reset_index()\n",
    "chi(alcohol, alcohol2, '2_2_4', 'percent')"
   ]
  },
  {
   "cell_type": "code",
   "execution_count": null,
   "id": "6ac9fc4e",
   "metadata": {},
   "outputs": [
    {
     "name": "stdout",
     "output_type": "stream",
     "text": [
      "  index  2_2_5   percent\n",
      "0     0    163  0.920904\n",
      "1     1     14  0.079096\n",
      "  index  2_2_5   percent\n",
      "0     0    305  0.944272\n",
      "1     1     18  0.055728\n",
      "Chi-Square statistic: 3.3519425108262597\n",
      "P-value: 0.0671257570717653\n"
     ]
    }
   ],
   "source": [
    "#偏好特色飲料店的人較愛購買氣泡飲，但無顯著差距\n",
    "soda = df4['2_2_5'].value_counts().reset_index()\n",
    "soda2 = df5['2_2_5'].value_counts().reset_index()\n",
    "chi(soda, soda2, '2_2_5', 'percent')"
   ]
  },
  {
   "cell_type": "code",
   "execution_count": null,
   "id": "92b757a4",
   "metadata": {},
   "outputs": [
    {
     "name": "stdout",
     "output_type": "stream",
     "text": [
      "  index  2_2_6   percent\n",
      "0     0    153  0.864407\n",
      "1     1     24  0.135593\n",
      "  index  2_2_6   percent\n",
      "0     0    286  0.885449\n",
      "1     1     37  0.114551\n",
      "Chi-Square statistic: 1.4100012156605088\n",
      "P-value: 0.23505619143291318\n"
     ]
    }
   ],
   "source": [
    "#偏好特色飲料店的人較愛購買冰沙，但無顯著差距\n",
    "ice = df4['2_2_6'].value_counts().reset_index()\n",
    "ice2 = df5['2_2_6'].value_counts().reset_index()\n",
    "chi(ice, ice2, '2_2_6', 'percent')"
   ]
  },
  {
   "cell_type": "code",
   "execution_count": null,
   "id": "fc24d803",
   "metadata": {},
   "outputs": [
    {
     "name": "stdout",
     "output_type": "stream",
     "text": [
      "  index  2_2_7   percent\n",
      "0     0    160  0.903955\n",
      "1     1     17  0.096045\n",
      "  index  2_2_7   percent\n",
      "0     0    295  0.913313\n",
      "1     1     28  0.086687\n",
      "Chi-Square statistic: 0.3572592698732661\n",
      "P-value: 0.5500323208837616\n"
     ]
    }
   ],
   "source": [
    "#偏好特色飲料店的人較愛購買咖啡，但無顯著差距\n",
    "coffie = df4['2_2_7'].value_counts().reset_index()\n",
    "coffie2 = df5['2_2_7'].value_counts().reset_index()\n",
    "chi(coffie, coffie2, '2_2_7', 'percent')"
   ]
  },
  {
   "cell_type": "code",
   "execution_count": null,
   "id": "1a0fd39a",
   "metadata": {},
   "outputs": [
    {
     "name": "stdout",
     "output_type": "stream",
     "text": [
      "  index  2_7   percent\n",
      "0     2   84  0.474576\n",
      "1     3   70  0.395480\n",
      "2     4   12  0.067797\n",
      "3     5    7  0.039548\n",
      "4     1    4  0.022599\n",
      "  index  2_7   percent\n",
      "0     2  171  0.529412\n",
      "1     3  112  0.346749\n",
      "2     1   25  0.077399\n",
      "3     4   12  0.037152\n",
      "4     5    3  0.009288\n",
      "Chi-Square statistic: 10.643084894719482\n",
      "P-value: 0.03088207962105372\n"
     ]
    }
   ],
   "source": [
    "# 特色飲料客群較喜愛購買調酒類，且有顯著差距\n",
    "# 特色飲料客群較喜愛購買鮮奶類、氣泡飲、冰沙、咖啡，但無顯著差距\n",
    "\n",
    "# 7. 您通常在逢甲商圈購買一杯飲料的金額為何？\n",
    "# 1：35元以下；2：36-50元；3：51-65元；4：66-80元；5：81元以上\n",
    "# 特色飲料客群通常買一杯飲料花36-65元(107年的資訊)，且願意花的金額比非特色飲料客群高，且有顯著差距\n",
    "price = df4['2_7'].value_counts().reset_index()\n",
    "price2 = df5['2_7'].value_counts().reset_index()\n",
    "chi(price, price2, '2_7', 'percent')"
   ]
  },
  {
   "cell_type": "code",
   "execution_count": null,
   "id": "c79f86e5",
   "metadata": {},
   "outputs": [
    {
     "name": "stdout",
     "output_type": "stream",
     "text": [
      "  index  2_72   percent\n",
      "0     3    89  0.502825\n",
      "1     1    88  0.497175\n",
      "  index  2_72   percent\n",
      "0     1   196  0.606811\n",
      "1     3   127  0.393189\n",
      "Chi-Square statistic: 14.63861251733282\n",
      "P-value: 0.00013021903645688937\n"
     ]
    }
   ],
   "source": [
    "# 我認為以上的例子用chi-square去算有些不妥，因為假如實驗組是35元以下的有200人，剩下都0人\n",
    "# 對照組是36-50元的200人，剩下都0人，那一定有顯著差距，但是都是偏低價位，對商家來說不太算是顯著差距\n",
    "# 所以我把50元以下分一群(index 1)，51元以上分一群(index 3)\n",
    "# 分群發現特色飲料客群通常買一杯飲料願意花的金額比非特色飲料客群高，且有顯著差距\n",
    "\n",
    "df4['2_72']=df4['2_7']\n",
    "df4['2_72']=df4['2_72'].astype(str)\n",
    "df4['2_72']=df4['2_72'].str.replace('2','1')\n",
    "df4['2_72']=df4['2_72'].str.replace('4','3')\n",
    "df4['2_72']=df4['2_72'].str.replace('5','3')\n",
    "\n",
    "df5['2_72']=df5['2_7']\n",
    "df5['2_72']=df5['2_72'].astype(str)\n",
    "df5['2_72']=df5['2_72'].str.replace('2','1')\n",
    "df5['2_72']=df5['2_72'].str.replace('4','3')\n",
    "df5['2_72']=df5['2_72'].str.replace('5','3')\n",
    "price3 = df4['2_72'].value_counts().reset_index()\n",
    "price4 = df5['2_72'].value_counts().reset_index()\n",
    "chi(price3, price4, '2_72', 'percent')\n"
   ]
  },
  {
   "cell_type": "code",
   "execution_count": null,
   "id": "be8fa77c",
   "metadata": {},
   "outputs": [
    {
     "name": "stdout",
     "output_type": "stream",
     "text": [
      "  index  2_8   percent\n",
      "0     2   86  0.485876\n",
      "1     1   63  0.355932\n",
      "2     3   22  0.124294\n",
      "3     5    3  0.016949\n",
      "4     4    3  0.016949\n",
      "  index  2_8   percent\n",
      "0     2  154  0.476780\n",
      "1     1  138  0.427245\n",
      "2     3   26  0.080495\n",
      "3     5    4  0.012384\n",
      "4     4    1  0.003096\n",
      "Chi-Square statistic: 32.16359655794538\n",
      "P-value: 1.771321268459057e-06\n"
     ]
    }
   ],
   "source": [
    "# 2_8您購買飲料時，願意花多少時間等待? \n",
    "# 1：5分鐘以內；2：6-10分鐘；3：11-15分鐘；4：16-20分鐘；5：21分鐘以上\n",
    "wait = df4['2_8'].value_counts().reset_index()\n",
    "wait2 = df5['2_8'].value_counts().reset_index()\n",
    "chi(wait, wait2, '2_8', 'percent')"
   ]
  },
  {
   "cell_type": "code",
   "execution_count": null,
   "id": "1cdb8e21",
   "metadata": {},
   "outputs": [
    {
     "name": "stdout",
     "output_type": "stream",
     "text": [
      "  index  2_82   percent\n",
      "0     1   149  0.841808\n",
      "1     3    28  0.158192\n",
      "  index  2_82   percent\n",
      "0     1   292  0.904025\n",
      "1     3    31  0.095975\n",
      "Chi-Square statistic: 14.410504145652366\n",
      "P-value: 0.00014698016195958564\n"
     ]
    }
   ],
   "source": [
    "# 同樣把等待時間分為兩群，10分鐘以下一群(index 1)，11分鐘以上一群(index 3)\n",
    "# 特色飲料客群較願意等，且有顯著差距，不過仍然只有15.82%的客人願意等11分鐘以上\n",
    "df4['2_82']=df4['2_8']\n",
    "df4['2_82']=df4['2_82'].astype(str)\n",
    "df4['2_82']=df4['2_82'].str.replace('2','1')\n",
    "df4['2_82']=df4['2_82'].str.replace('4','3')\n",
    "df4['2_82']=df4['2_82'].str.replace('5','3')\n",
    "\n",
    "df5['2_82']=df5['2_8']\n",
    "df5['2_82']=df5['2_82'].astype(str)\n",
    "df5['2_82']=df5['2_82'].str.replace('2','1')\n",
    "df5['2_82']=df5['2_82'].str.replace('4','3')\n",
    "df5['2_82']=df5['2_82'].str.replace('5','3')\n",
    "\n",
    "wait3 = df4['2_82'].value_counts().reset_index()\n",
    "wait4 = df5['2_82'].value_counts().reset_index()\n",
    "chi(wait3, wait4, '2_82', 'percent')"
   ]
  },
  {
   "cell_type": "code",
   "execution_count": null,
   "id": "2a1edbf1",
   "metadata": {},
   "outputs": [
    {
     "name": "stdout",
     "output_type": "stream",
     "text": [
      "  index  3_5   percent\n",
      "0     3   87  0.491525\n",
      "1     4   34  0.192090\n",
      "2     2   23  0.129944\n",
      "3     6   22  0.124294\n",
      "4     5    9  0.050847\n",
      "5     1    2  0.011299\n",
      "  index  3_5   percent\n",
      "0     3  162  0.501548\n",
      "1     4   62  0.191950\n",
      "2     2   34  0.105263\n",
      "3     5   32  0.099071\n",
      "4     6   26  0.080495\n",
      "5     1    7  0.021672\n",
      "Chi-Square statistic: 9.13852700205304\n",
      "P-value: 0.10366472348479981\n"
     ]
    }
   ],
   "source": [
    "# 5. 您的年齡為何？\n",
    "# 1.□ 15 歲(含)以下 2.□ 16~18 歲 3.□ 19~23 歲 4.□ 24~28 歲\n",
    "# 5.□ 29~34 歲 6.□ 35 歲以上\n",
    "# 特色飲料客群年齡大多在19-28歲，年齡層與非特色飲料客群很接近\n",
    "age = df4['3_5'].value_counts().reset_index()\n",
    "age2 = df5['3_5'].value_counts().reset_index()\n",
    "chi(age, age2, '3_5', 'percent')"
   ]
  },
  {
   "cell_type": "code",
   "execution_count": null,
   "id": "322aaf59",
   "metadata": {},
   "outputs": [
    {
     "name": "stdout",
     "output_type": "stream",
     "text": [
      "  index  3_2   percent\n",
      "0     3   67  0.378531\n",
      "1     1   45  0.254237\n",
      "2     4   32  0.180791\n",
      "3     6   21  0.118644\n",
      "4     7    5  0.028249\n",
      "5     5    5  0.028249\n",
      "6     2    2  0.011299\n",
      "  index  3_2   percent\n",
      "0     3  131  0.405573\n",
      "1     1   64  0.198142\n",
      "2     4   63  0.195046\n",
      "3     6   44  0.136223\n",
      "4     5   12  0.037152\n",
      "5     7    8  0.024768\n",
      "6     2    1  0.003096\n",
      "Chi-Square statistic: 14.649222824485122\n",
      "P-value: 0.02316763976706411\n"
     ]
    }
   ],
   "source": [
    "# 2. 您這次到逢甲商圈的交通工具為何？\n",
    "# 1.□ 徒步 2.□ 腳踏車 3.□ 機車 4.□ 汽車\n",
    "# 5.□ 計程車 6.□ 公車 7.□ 遊覽車\n",
    "# 兩種客群的交通工具接近\n",
    "traffic = df4['3_2'].value_counts().reset_index()\n",
    "traffic2 = df5['3_2'].value_counts().reset_index()\n",
    "chi(traffic, traffic2, '3_2', 'percent')\n"
   ]
  },
  {
   "cell_type": "code",
   "execution_count": null,
   "id": "b7754737",
   "metadata": {},
   "outputs": [
    {
     "name": "stdout",
     "output_type": "stream",
     "text": [
      "  index  受訪者性別   percent\n",
      "0     1    104  0.587571\n",
      "1     0     73  0.412429\n",
      "  index  受訪者性別\n",
      "0     1    167\n",
      "1     0    156\n",
      "Chi-Square statistic: 6.436819992358873\n",
      "P-value: 0.011177857087388457\n"
     ]
    }
   ],
   "source": [
    "a=df4[df4.columns[5]].value_counts().reset_index()\n",
    "a['percent'] = a[a.columns[1]] / a[a.columns[1]].sum()\n",
    "b=df5[df5.columns[5]].value_counts().reset_index()\n",
    "\n",
    "observed_values_normalized = a['percent'].values  * df5.shape[0]\n",
    "expected_values_normalized = b[b.columns[1]].values \n",
    "\n",
    "result = chisquare(f_obs=observed_values_normalized, f_exp=expected_values_normalized)\n",
    "print(a)\n",
    "print(b)\n",
    "print(\"Chi-Square statistic:\", result.statistic)\n",
    "print(\"P-value:\", result.pvalue)"
   ]
  },
  {
   "cell_type": "code",
   "execution_count": null,
   "id": "1727a349",
   "metadata": {},
   "outputs": [],
   "source": [
    "# import pandas as pd\n",
    "\n",
    "# # 創建或載入您的 DataFrame（將此替換為實際數據）\n",
    "# data = {\n",
    "#     'column1': [1, 2, 3],\n",
    "#     'column2': [4, 5, 6],\n",
    "#     'column3': [7, 8, 9]\n",
    "# }\n",
    "# df4 = pd.DataFrame(data)\n",
    "\n",
    "# # 創建新的列，其列名基於現有的列名\n",
    "# new_column_name = str(df4.columns[0]) + '2'\n",
    "# df4[new_column_name] = '1'\n",
    "\n",
    "# print(df4)\n"
   ]
  },
  {
   "cell_type": "code",
   "execution_count": null,
   "id": "d5c8437f",
   "metadata": {},
   "outputs": [],
   "source": [
    "# 尋找特色飲料客群與其他客群，哪些類別有顯著差距\n",
    "# 題目1_1到2_1都是6最滿意，1最不滿意的類型，我認為要看顯著差距，也同樣只先分為兩類，滿意與不滿意較佳\n",
    "for i in range(6,30):\n",
    "    df4[df4.columns[i]+'q'] = df4[df4.columns[i]]\n",
    "    df4[df4.columns[i]+'q']=df4[df4.columns[i]+'q'].str.replace('3','1')\n",
    "    df4[df4.columns[i]+'q']=df4[df4.columns[i]+'q'].str.replace('2','1')\n",
    "    df4[df4.columns[i]+'q']=df4[df4.columns[i]+'q'].str.replace('6','4')\n",
    "    df4[df4.columns[i]+'q']=df4[df4.columns[i]+'q'].str.replace('5','4')\n",
    "    df4[df4.columns[i]+'q']=df4[df4.columns[i]+'q'].str.replace('6','4')\n",
    "    \n",
    "    df5[df5.columns[i]+'q'] = df5[df5.columns[i]]\n",
    "    df5[df5.columns[i]+'q']=df5[df5.columns[i]+'q'].str.replace('3','1')\n",
    "    df5[df5.columns[i]+'q']=df5[df5.columns[i]+'q'].str.replace('2','1')\n",
    "    df5[df5.columns[i]+'q']=df5[df5.columns[i]+'q'].str.replace('6','4')\n",
    "    df5[df5.columns[i]+'q']=df5[df5.columns[i]+'q'].str.replace('5','4')\n",
    "    df5[df5.columns[i]+'q']=df5[df5.columns[i]+'q'].str.replace('6','4')\n",
    "# df4.columns[6] + '2'\n",
    "# df4.columns[6]"
   ]
  },
  {
   "cell_type": "code",
   "execution_count": null,
   "id": "9a42d3f4",
   "metadata": {},
   "outputs": [],
   "source": [
    "df42=df4[['1_1q', '1_2q',\n",
    "       '1_3q', '1_4q', '1_5q', '1_6q', '1_7q', '1_8q', '1_9q', '1_10q', '1_11q', '1_12q',\n",
    "       '1_13q', '1_14q', '2_1_aq', '2_1_bq', '2_1_cq', '2_1_dq', '2_1_eq']]\n",
    "\n",
    "df52=df5[['1_1q', '1_2q',\n",
    "       '1_3q', '1_4q', '1_5q', '1_6q', '1_7q', '1_8q', '1_9q', '1_10q', '1_11q', '1_12q',\n",
    "       '1_13q', '1_14q', '2_1_aq', '2_1_bq', '2_1_cq', '2_1_dq', '2_1_eq']]"
   ]
  },
  {
   "cell_type": "code",
   "execution_count": null,
   "id": "83cfe753",
   "metadata": {},
   "outputs": [
    {
     "name": "stdout",
     "output_type": "stream",
     "text": [
      "1_1q\n",
      "  index  1_1q   percent\n",
      "0     4   154  0.870056\n",
      "1     1    23  0.129944\n",
      "  index  1_1q   percent\n",
      "0     4   257  0.795666\n",
      "1     1    66  0.204334\n",
      "Chi-Square statistic: 10.994353487212997\n",
      "P-value: 0.000913898867995581 \n",
      "\n",
      "1_3q\n",
      "  index  1_3q   percent\n",
      "0     4   127  0.717514\n",
      "1     1    50  0.282486\n",
      "  index  1_3q   percent\n",
      "0     4   195  0.603715\n",
      "1     1   128  0.396285\n",
      "Chi-Square statistic: 17.4839488184127\n",
      "P-value: 2.897436153673869e-05 \n",
      "\n",
      "1_6q\n",
      "  index  1_6q   percent\n",
      "0     4   133  0.751412\n",
      "1     1    44  0.248588\n",
      "  index  1_6q   percent\n",
      "0     4   258  0.798762\n",
      "1     1    65  0.201238\n",
      "Chi-Square statistic: 4.505048165131811\n",
      "P-value: 0.0337949444128801 \n",
      "\n",
      "1_8q\n",
      "  index  1_8q   percent\n",
      "0     4   118  0.666667\n",
      "1     1    59  0.333333\n",
      "  index  1_8q   percent\n",
      "0     4   192  0.594427\n",
      "1     1   131  0.405573\n",
      "Chi-Square statistic: 6.99171260955612\n",
      "P-value: 0.008188796420447843 \n",
      "\n",
      "1_14q\n",
      "  index  1_14q   percent\n",
      "0     4    148  0.836158\n",
      "1     1     29  0.163842\n",
      "  index  1_14q   percent\n",
      "0     4    293  0.907121\n",
      "1     1     30  0.092879\n",
      "Chi-Square statistic: 19.3053255640503\n",
      "P-value: 1.1139521588185462e-05 \n",
      "\n",
      "2_1_aq\n",
      "  index  2_1_aq   percent\n",
      "0     4     157  0.887006\n",
      "1     1      20  0.112994\n",
      "  index  2_1_aq   percent\n",
      "0     4     259  0.801858\n",
      "1     1      64  0.198142\n",
      "Chi-Square statistic: 14.739318061854693\n",
      "P-value: 0.00012344492522310725 \n",
      "\n",
      "2_1_bq\n",
      "  index  2_1_bq  percent\n",
      "0     4     142  0.80226\n",
      "1     1      35  0.19774\n",
      "  index  2_1_bq   percent\n",
      "0     4     227  0.702786\n",
      "1     1      96  0.297214\n",
      "Chi-Square statistic: 15.301195211398388\n",
      "P-value: 9.165849924890076e-05 \n",
      "\n"
     ]
    }
   ],
   "source": [
    "for i in range(df42.shape[1]):\n",
    "    a=df42[df42.columns[i]].value_counts().reset_index()\n",
    "    a['percent'] = a[a.columns[1]] / a[a.columns[1]].sum()\n",
    "    b=df52[df52.columns[i]].value_counts().reset_index()\n",
    "    b['percent'] = b[b.columns[1]] / b[a.columns[1]].sum()\n",
    "    \n",
    "    observed_values_normalized = a['percent'].values  * df52.shape[0]\n",
    "    expected_values_normalized = b[b.columns[1]].values \n",
    "\n",
    "    result = chisquare(f_obs=observed_values_normalized, f_exp=expected_values_normalized)\n",
    "\n",
    "    if result.pvalue < 0.05:\n",
    "        print(df42.columns[i],)\n",
    "        print(a)\n",
    "        print(b)\n",
    "        print(\"Chi-Square statistic:\", result.statistic)\n",
    "        print(\"P-value:\", result.pvalue,'\\n')"
   ]
  },
  {
   "cell_type": "code",
   "execution_count": null,
   "id": "d77b4046",
   "metadata": {},
   "outputs": [],
   "source": [
    "# 以下資訊有顯著差異，特色飲料客群：\n",
    "# 較同意逢甲商圈的商品有獨特性(1_1 87.01% VS 79.57%)\n",
    "# 較同意逢甲商圈的商品較格低廉(1_3)\n",
    "# 較同意逢甲商圈的食物便宜(1_8)\n",
    "# 較在意口味的獨特性和包裝的獨特性(2_1)\n",
    "\n",
    "# 較不同意逢甲商圈的的商家態度親切(1_6)\n",
    "# 較無再次來逢甲商圈消費的意願(1_14)"
   ]
  },
  {
   "cell_type": "code",
   "execution_count": null,
   "id": "a4354fff",
   "metadata": {},
   "outputs": [
    {
     "name": "stdout",
     "output_type": "stream",
     "text": [
      "2_9_2\n",
      "  index  2_9_2   percent\n",
      "0     0    135  0.762712\n",
      "1     1     42  0.237288\n",
      "  index  2_9_2  percent\n",
      "0     0    261  0.80805\n",
      "1     1     62  0.19195\n",
      "Chi-Square statistic: 4.280492960514399\n",
      "P-value: 0.03855216565308863 \n",
      "\n",
      "2_9_4\n",
      "  index  2_9_4   percent\n",
      "0     0    166  0.937853\n",
      "1     1     11  0.062147\n",
      "  index  2_9_4   percent\n",
      "0     0    287  0.888545\n",
      "1     1     36  0.111455\n",
      "Chi-Square statistic: 7.929791050747909\n",
      "P-value: 0.004862741215178248 \n",
      "\n",
      "2_9_6\n",
      "  index  2_9_6   percent\n",
      "0     0    128  0.723164\n",
      "1     1     49  0.276836\n",
      "  index  2_9_6   percent\n",
      "0     0    250  0.773994\n",
      "1     1     73  0.226006\n",
      "Chi-Square statistic: 4.770724534185801\n",
      "P-value: 0.028947640785074558 \n",
      "\n",
      "2_9_9\n",
      "  index  2_9_9   percent\n",
      "0     0    170  0.960452\n",
      "1     1      7  0.039548\n",
      "  index  2_9_9   percent\n",
      "0     0    299  0.925697\n",
      "1     1     24  0.074303\n",
      "Chi-Square statistic: 5.672431940438074\n",
      "P-value: 0.017233548479609662 \n",
      "\n"
     ]
    }
   ],
   "source": [
    "# 找尋特色飲料特群較喜愛哪些行銷手法\n",
    "df43=df4[['2_9_1', '2_9_2', '2_9_3', '2_9_4', '2_9_5', '2_9_6', '2_9_7', '2_9_8', '2_9_9', '2_9_10']]\n",
    "df53=df5[['2_9_1', '2_9_2', '2_9_3', '2_9_4', '2_9_5', '2_9_6', '2_9_7', '2_9_8', '2_9_9', '2_9_10']]\n",
    "\n",
    "for i in range(df43.shape[1]):\n",
    "    a=df43[df43.columns[i]].value_counts().reset_index()\n",
    "    a['percent'] = a[a.columns[1]] / a[a.columns[1]].sum()\n",
    "    b=df53[df53.columns[i]].value_counts().reset_index()\n",
    "    b['percent'] = b[b.columns[1]] / b[a.columns[1]].sum()\n",
    "    \n",
    "    observed_values_normalized = a['percent'].values  * df53.shape[0]\n",
    "    expected_values_normalized = b[b.columns[1]].values \n",
    "\n",
    "    result = chisquare(f_obs=observed_values_normalized, f_exp=expected_values_normalized)\n",
    "\n",
    "    if result.pvalue < 0.05:\n",
    "        print(df43.columns[i],)\n",
    "        print(a)\n",
    "        print(b)\n",
    "        print(\"Chi-Square statistic:\", result.statistic)\n",
    "        print(\"P-value:\", result.pvalue,'\\n')"
   ]
  },
  {
   "cell_type": "code",
   "execution_count": null,
   "id": "44e08f27",
   "metadata": {},
   "outputs": [],
   "source": [
    "# 特色飲料客群較喜愛：2_9_2每日限量、2_9_6試飲\n",
    "# 特色飲料客群較不喜愛：2_9_4會員卡優惠、2_9_9app抽獎優惠\n",
    "# 沒有顯著差距：2_9_1買一送一、2_9_3自帶環保杯折價、2_9_5打卡優惠、2_9_7一日店長、2_9_8部落客推薦、2_9_10其他"
   ]
  },
  {
   "cell_type": "markdown",
   "id": "5cc8c2d3",
   "metadata": {},
   "source": [
    " <a name=\"小結\"></a>\n",
    "## 小結\n",
    "數據分析有很多需要注重的思考點，這份數據分析的資料來源是請路人填問卷，也就是抽樣調查，但填問卷方式蒐集到的資料很可能往往不能代表母體，因為願意填問卷的人通常是比較熱心或是不善常拒絕的人，而願意填問卷與不願意填問卷的群體，很可能在某些方面也有顯著差距，加上這些是107年的資訊，因此很可能不適用於現今情況\n",
    "\n",
    "若是數據分析的內容更需要精確性，蒐集樣本的方式也需要審慎考慮，像是用抽獎問卷，若有漏填則失去資格等等，讓大部分的群體都願意認真填問卷"
   ]
  }
 ],
 "metadata": {
  "kernelspec": {
   "display_name": "Python 3",
   "language": "python",
   "name": "python3"
  },
  "language_info": {
   "codemirror_mode": {
    "name": "ipython",
    "version": 3
   },
   "file_extension": ".py",
   "mimetype": "text/x-python",
   "name": "python",
   "nbconvert_exporter": "python",
   "pygments_lexer": "ipython3",
   "version": "3.10.3"
  },
  "vscode": {
   "interpreter": {
    "hash": "3b7e9cb8e453d6cda0fe8c8dd13f891a1f09162f0e7c66ffeae7751a7aecf00d"
   }
  }
 },
 "nbformat": 4,
 "nbformat_minor": 5
}
